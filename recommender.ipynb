{
 "cells": [
  {
   "cell_type": "code",
   "execution_count": 2,
   "metadata": {},
   "outputs": [],
   "source": [
    "import pandas as pd\n",
    "import numpy as np\n",
    "import gc"
   ]
  },
  {
   "cell_type": "code",
   "execution_count": 3,
   "metadata": {},
   "outputs": [
    {
     "name": "stderr",
     "output_type": "stream",
     "text": [
      "/usr/local/lib/python3.7/site-packages/IPython/core/interactiveshell.py:3058: DtypeWarning: Columns (5) have mixed types. Specify dtype option on import or set low_memory=False.\n",
      "  interactivity=interactivity, compiler=compiler, result=result)\n"
     ]
    }
   ],
   "source": [
    "df_events = pd.read_csv('./vi_data/events_train.csv')\n",
    "df_purchases = pd.read_csv('./vi_data/purchases_train.csv')"
   ]
  },
  {
   "cell_type": "markdown",
   "metadata": {},
   "source": [
    "# Nápady"
   ]
  },
  {
   "cell_type": "markdown",
   "metadata": {},
   "source": [
    "https://heartbeat.fritz.ai/recommender-systems-with-python-part-i-content-based-filtering-5df4940bd831\n",
    "https://towardsdatascience.com/prototyping-a-recommender-system-step-by-step-part-1-knn-item-based-collaborative-filtering-637969614ea\n",
    "https://www.youtube.com/watch?v=Ty3Ui_mQtxY"
   ]
  },
  {
   "cell_type": "markdown",
   "metadata": {},
   "source": [
    "# Prehľad dát"
   ]
  },
  {
   "cell_type": "code",
   "execution_count": 4,
   "metadata": {},
   "outputs": [
    {
     "data": {
      "text/html": [
       "<div>\n",
       "<style scoped>\n",
       "    .dataframe tbody tr th:only-of-type {\n",
       "        vertical-align: middle;\n",
       "    }\n",
       "\n",
       "    .dataframe tbody tr th {\n",
       "        vertical-align: top;\n",
       "    }\n",
       "\n",
       "    .dataframe thead th {\n",
       "        text-align: right;\n",
       "    }\n",
       "</style>\n",
       "<table border=\"1\" class=\"dataframe\">\n",
       "  <thead>\n",
       "    <tr style=\"text-align: right;\">\n",
       "      <th></th>\n",
       "      <th>customer_id</th>\n",
       "      <th>timestamp</th>\n",
       "      <th>event_type</th>\n",
       "      <th>product_id</th>\n",
       "      <th>title</th>\n",
       "      <th>category_name</th>\n",
       "      <th>price</th>\n",
       "    </tr>\n",
       "  </thead>\n",
       "  <tbody>\n",
       "    <tr>\n",
       "      <th>0</th>\n",
       "      <td>204685f9-00f0-4a36-bab1-e0b74673c3b1</td>\n",
       "      <td>2019-07-01 00:00:01.101977 UTC</td>\n",
       "      <td>view_item</td>\n",
       "      <td>f130c542-d793-41d0-88f6-d1c52b4fe8f0</td>\n",
       "      <td>Michael Kors Nappa Leather Racer Jacket</td>\n",
       "      <td>NaN</td>\n",
       "      <td>747.49</td>\n",
       "    </tr>\n",
       "    <tr>\n",
       "      <th>1</th>\n",
       "      <td>552445a5-f41d-4b25-b479-4e776d9bee61</td>\n",
       "      <td>2019-07-01 00:00:01.901589 UTC</td>\n",
       "      <td>view_item</td>\n",
       "      <td>29db8f57-49bd-4108-a0bb-0d245278e999</td>\n",
       "      <td>Puma Woven Shorts Girls</td>\n",
       "      <td>NaN</td>\n",
       "      <td>11.92</td>\n",
       "    </tr>\n",
       "    <tr>\n",
       "      <th>2</th>\n",
       "      <td>fac01f48-a03a-41f2-acd5-b5f4e407d9c2</td>\n",
       "      <td>2019-07-01 00:00:08.954928 UTC</td>\n",
       "      <td>view_item</td>\n",
       "      <td>a90bddc4-8eb7-4c99-aa4f-2f2377c246a2</td>\n",
       "      <td>Trendyol Multi-colored Flywheel Detailed Swimwear</td>\n",
       "      <td>NaN</td>\n",
       "      <td>23.85</td>\n",
       "    </tr>\n",
       "    <tr>\n",
       "      <th>3</th>\n",
       "      <td>552445a5-f41d-4b25-b479-4e776d9bee61</td>\n",
       "      <td>2019-07-01 00:00:09.721589 UTC</td>\n",
       "      <td>view_item</td>\n",
       "      <td>600268e1-a2ba-4b1b-ab57-58c577412af0</td>\n",
       "      <td>Puma Woven Shorts Girls</td>\n",
       "      <td>NaN</td>\n",
       "      <td>11.92</td>\n",
       "    </tr>\n",
       "    <tr>\n",
       "      <th>4</th>\n",
       "      <td>bc59a341-040f-41ea-8f33-cc4a02c2d85d</td>\n",
       "      <td>2019-07-01 00:00:13.745257 UTC</td>\n",
       "      <td>view_item</td>\n",
       "      <td>b74e0b38-1efe-4d86-9718-952cc2580212</td>\n",
       "      <td>Women's dress ROXY NEW LEASEOFLIFE J KTDR</td>\n",
       "      <td>NaN</td>\n",
       "      <td>40.00</td>\n",
       "    </tr>\n",
       "  </tbody>\n",
       "</table>\n",
       "</div>"
      ],
      "text/plain": [
       "                            customer_id                       timestamp  \\\n",
       "0  204685f9-00f0-4a36-bab1-e0b74673c3b1  2019-07-01 00:00:01.101977 UTC   \n",
       "1  552445a5-f41d-4b25-b479-4e776d9bee61  2019-07-01 00:00:01.901589 UTC   \n",
       "2  fac01f48-a03a-41f2-acd5-b5f4e407d9c2  2019-07-01 00:00:08.954928 UTC   \n",
       "3  552445a5-f41d-4b25-b479-4e776d9bee61  2019-07-01 00:00:09.721589 UTC   \n",
       "4  bc59a341-040f-41ea-8f33-cc4a02c2d85d  2019-07-01 00:00:13.745257 UTC   \n",
       "\n",
       "  event_type                            product_id  \\\n",
       "0  view_item  f130c542-d793-41d0-88f6-d1c52b4fe8f0   \n",
       "1  view_item  29db8f57-49bd-4108-a0bb-0d245278e999   \n",
       "2  view_item  a90bddc4-8eb7-4c99-aa4f-2f2377c246a2   \n",
       "3  view_item  600268e1-a2ba-4b1b-ab57-58c577412af0   \n",
       "4  view_item  b74e0b38-1efe-4d86-9718-952cc2580212   \n",
       "\n",
       "                                               title category_name   price  \n",
       "0            Michael Kors Nappa Leather Racer Jacket           NaN  747.49  \n",
       "1                            Puma Woven Shorts Girls           NaN   11.92  \n",
       "2  Trendyol Multi-colored Flywheel Detailed Swimwear           NaN   23.85  \n",
       "3                            Puma Woven Shorts Girls           NaN   11.92  \n",
       "4          Women's dress ROXY NEW LEASEOFLIFE J KTDR           NaN   40.00  "
      ]
     },
     "execution_count": 4,
     "metadata": {},
     "output_type": "execute_result"
    }
   ],
   "source": [
    "df_events.head()"
   ]
  },
  {
   "cell_type": "code",
   "execution_count": 5,
   "metadata": {},
   "outputs": [
    {
     "data": {
      "text/html": [
       "<div>\n",
       "<style scoped>\n",
       "    .dataframe tbody tr th:only-of-type {\n",
       "        vertical-align: middle;\n",
       "    }\n",
       "\n",
       "    .dataframe tbody tr th {\n",
       "        vertical-align: top;\n",
       "    }\n",
       "\n",
       "    .dataframe thead th {\n",
       "        text-align: right;\n",
       "    }\n",
       "</style>\n",
       "<table border=\"1\" class=\"dataframe\">\n",
       "  <thead>\n",
       "    <tr style=\"text-align: right;\">\n",
       "      <th></th>\n",
       "      <th>customer_id</th>\n",
       "      <th>timestamp</th>\n",
       "      <th>event_type</th>\n",
       "      <th>product_id</th>\n",
       "      <th>title</th>\n",
       "      <th>category_name</th>\n",
       "      <th>price</th>\n",
       "    </tr>\n",
       "  </thead>\n",
       "  <tbody>\n",
       "    <tr>\n",
       "      <th>0</th>\n",
       "      <td>0d1b7397-7d3c-44c0-9efc-d38bf197828b</td>\n",
       "      <td>2019-07-01 00:05:54.308966 UTC</td>\n",
       "      <td>purchase_item</td>\n",
       "      <td>954f9f2c-d3ca-4236-ac9a-4ea7bcf09305</td>\n",
       "      <td>Trendyol Leopard print Bikini bottom</td>\n",
       "      <td>NaN</td>\n",
       "      <td>NaN</td>\n",
       "    </tr>\n",
       "    <tr>\n",
       "      <th>1</th>\n",
       "      <td>81ccae7e-e496-4997-a289-4669bf53f33e</td>\n",
       "      <td>2019-07-01 00:20:03.404186 UTC</td>\n",
       "      <td>purchase_item</td>\n",
       "      <td>75b281e5-8a16-42cb-9ae0-9a98db7a2c40</td>\n",
       "      <td>No Fear Reflect Shorts Mens</td>\n",
       "      <td>NaN</td>\n",
       "      <td>NaN</td>\n",
       "    </tr>\n",
       "    <tr>\n",
       "      <th>2</th>\n",
       "      <td>50777c55-8dd6-4309-a5ca-26e66c8a8279</td>\n",
       "      <td>2019-07-01 00:34:35.989935 UTC</td>\n",
       "      <td>purchase_item</td>\n",
       "      <td>0112dec8-47f5-4c2c-9109-571e2dbb6345</td>\n",
       "      <td>Trendyol Multicolor camisole Blouse</td>\n",
       "      <td>NaN</td>\n",
       "      <td>NaN</td>\n",
       "    </tr>\n",
       "    <tr>\n",
       "      <th>3</th>\n",
       "      <td>50777c55-8dd6-4309-a5ca-26e66c8a8279</td>\n",
       "      <td>2019-07-01 00:34:35.991935 UTC</td>\n",
       "      <td>purchase_item</td>\n",
       "      <td>0fa25a2d-2aa1-4397-82f1-5a64f3b1272d</td>\n",
       "      <td>Trendyol White High Waist Skinny Jeans</td>\n",
       "      <td>NaN</td>\n",
       "      <td>NaN</td>\n",
       "    </tr>\n",
       "    <tr>\n",
       "      <th>4</th>\n",
       "      <td>647d269f-b18f-4558-8653-93369d862ec9</td>\n",
       "      <td>2019-07-01 00:52:53.083698 UTC</td>\n",
       "      <td>purchase_item</td>\n",
       "      <td>81c01216-55a9-4588-a722-bccf0bf35fd5</td>\n",
       "      <td>Firetrap Lazer Polo Shirt</td>\n",
       "      <td>NaN</td>\n",
       "      <td>NaN</td>\n",
       "    </tr>\n",
       "  </tbody>\n",
       "</table>\n",
       "</div>"
      ],
      "text/plain": [
       "                            customer_id                       timestamp  \\\n",
       "0  0d1b7397-7d3c-44c0-9efc-d38bf197828b  2019-07-01 00:05:54.308966 UTC   \n",
       "1  81ccae7e-e496-4997-a289-4669bf53f33e  2019-07-01 00:20:03.404186 UTC   \n",
       "2  50777c55-8dd6-4309-a5ca-26e66c8a8279  2019-07-01 00:34:35.989935 UTC   \n",
       "3  50777c55-8dd6-4309-a5ca-26e66c8a8279  2019-07-01 00:34:35.991935 UTC   \n",
       "4  647d269f-b18f-4558-8653-93369d862ec9  2019-07-01 00:52:53.083698 UTC   \n",
       "\n",
       "      event_type                            product_id  \\\n",
       "0  purchase_item  954f9f2c-d3ca-4236-ac9a-4ea7bcf09305   \n",
       "1  purchase_item  75b281e5-8a16-42cb-9ae0-9a98db7a2c40   \n",
       "2  purchase_item  0112dec8-47f5-4c2c-9109-571e2dbb6345   \n",
       "3  purchase_item  0fa25a2d-2aa1-4397-82f1-5a64f3b1272d   \n",
       "4  purchase_item  81c01216-55a9-4588-a722-bccf0bf35fd5   \n",
       "\n",
       "                                    title category_name  price  \n",
       "0    Trendyol Leopard print Bikini bottom           NaN    NaN  \n",
       "1             No Fear Reflect Shorts Mens           NaN    NaN  \n",
       "2     Trendyol Multicolor camisole Blouse           NaN    NaN  \n",
       "3  Trendyol White High Waist Skinny Jeans           NaN    NaN  \n",
       "4               Firetrap Lazer Polo Shirt           NaN    NaN  "
      ]
     },
     "execution_count": 5,
     "metadata": {},
     "output_type": "execute_result"
    }
   ],
   "source": [
    "df_purchases.head()"
   ]
  },
  {
   "cell_type": "markdown",
   "metadata": {},
   "source": [
    "## Informácie o dátach"
   ]
  },
  {
   "cell_type": "code",
   "execution_count": 6,
   "metadata": {},
   "outputs": [
    {
     "name": "stdout",
     "output_type": "stream",
     "text": [
      "<class 'pandas.core.frame.DataFrame'>\n",
      "RangeIndex: 14614385 entries, 0 to 14614384\n",
      "Data columns (total 7 columns):\n",
      "customer_id      object\n",
      "timestamp        object\n",
      "event_type       object\n",
      "product_id       object\n",
      "title            object\n",
      "category_name    object\n",
      "price            float64\n",
      "dtypes: float64(1), object(6)\n",
      "memory usage: 780.5+ MB\n"
     ]
    }
   ],
   "source": [
    "df_events.info()"
   ]
  },
  {
   "cell_type": "code",
   "execution_count": 7,
   "metadata": {},
   "outputs": [
    {
     "name": "stdout",
     "output_type": "stream",
     "text": [
      "<class 'pandas.core.frame.DataFrame'>\n",
      "RangeIndex: 188712 entries, 0 to 188711\n",
      "Data columns (total 7 columns):\n",
      "customer_id      188712 non-null object\n",
      "timestamp        188712 non-null object\n",
      "event_type       188712 non-null object\n",
      "product_id       188712 non-null object\n",
      "title            188684 non-null object\n",
      "category_name    143814 non-null object\n",
      "price            143826 non-null float64\n",
      "dtypes: float64(1), object(6)\n",
      "memory usage: 10.1+ MB\n"
     ]
    }
   ],
   "source": [
    "df_purchases.info()"
   ]
  },
  {
   "cell_type": "code",
   "execution_count": 8,
   "metadata": {},
   "outputs": [],
   "source": [
    "# sort data by date (timestamp)\n",
    "df_events.sort_values(by=['timestamp'], inplace=True, ascending=False)\n",
    "df_purchases.sort_values(by=['timestamp'], inplace=True, ascending=False)"
   ]
  },
  {
   "cell_type": "markdown",
   "metadata": {},
   "source": [
    "# Predspracovanie dát"
   ]
  },
  {
   "cell_type": "code",
   "execution_count": 9,
   "metadata": {},
   "outputs": [],
   "source": [
    "from sklearn import preprocessing"
   ]
  },
  {
   "cell_type": "code",
   "execution_count": 10,
   "metadata": {},
   "outputs": [
    {
     "data": {
      "text/plain": [
       "0"
      ]
     },
     "execution_count": 10,
     "metadata": {},
     "output_type": "execute_result"
    }
   ],
   "source": [
    "# spojenie dát\n",
    "df = pd.concat([df_events, df_purchases])\n",
    "\n",
    "del [[df_events, df_purchases]]\n",
    "gc.collect()"
   ]
  },
  {
   "cell_type": "code",
   "execution_count": 11,
   "metadata": {},
   "outputs": [],
   "source": [
    "df.drop(['price'], axis=1, inplace=True)"
   ]
  },
  {
   "cell_type": "code",
   "execution_count": 12,
   "metadata": {},
   "outputs": [],
   "source": [
    "df['event_type'] = df['event_type'].replace({ 'view_item': 1, 'purchase_item': 2 })"
   ]
  },
  {
   "cell_type": "code",
   "execution_count": 13,
   "metadata": {},
   "outputs": [
    {
     "data": {
      "text/plain": [
       "0"
      ]
     },
     "execution_count": 13,
     "metadata": {},
     "output_type": "execute_result"
    }
   ],
   "source": [
    "prepared_df = df.groupby(['customer_id', 'product_id']).sum().reset_index().sort_values(by=['event_type'], ascending=False)\n",
    "\n",
    "del [[df]]\n",
    "gc.collect()"
   ]
  },
  {
   "cell_type": "markdown",
   "metadata": {},
   "source": [
    "# Zakódovanie idčiek"
   ]
  },
  {
   "cell_type": "code",
   "execution_count": 14,
   "metadata": {},
   "outputs": [],
   "source": [
    "from sklearn import preprocessing"
   ]
  },
  {
   "cell_type": "code",
   "execution_count": 15,
   "metadata": {},
   "outputs": [],
   "source": [
    "le_customer = preprocessing.LabelEncoder()\n",
    "le_product = preprocessing.LabelEncoder()\n",
    "\n",
    "prepared_df['customer_id'] = le_customer.fit_transform(prepared_df['customer_id'])\n",
    "prepared_df['product_id'] = le_product.fit_transform(prepared_df['product_id'])"
   ]
  },
  {
   "cell_type": "code",
   "execution_count": 16,
   "metadata": {},
   "outputs": [
    {
     "data": {
      "text/html": [
       "<div>\n",
       "<style scoped>\n",
       "    .dataframe tbody tr th:only-of-type {\n",
       "        vertical-align: middle;\n",
       "    }\n",
       "\n",
       "    .dataframe tbody tr th {\n",
       "        vertical-align: top;\n",
       "    }\n",
       "\n",
       "    .dataframe thead th {\n",
       "        text-align: right;\n",
       "    }\n",
       "</style>\n",
       "<table border=\"1\" class=\"dataframe\">\n",
       "  <thead>\n",
       "    <tr style=\"text-align: right;\">\n",
       "      <th></th>\n",
       "      <th>customer_id</th>\n",
       "      <th>product_id</th>\n",
       "      <th>event_type</th>\n",
       "    </tr>\n",
       "  </thead>\n",
       "  <tbody>\n",
       "    <tr>\n",
       "      <th>9247622</th>\n",
       "      <td>2138502</td>\n",
       "      <td>10450</td>\n",
       "      <td>550</td>\n",
       "    </tr>\n",
       "    <tr>\n",
       "      <th>3614166</th>\n",
       "      <td>836610</td>\n",
       "      <td>7499</td>\n",
       "      <td>460</td>\n",
       "    </tr>\n",
       "    <tr>\n",
       "      <th>2785564</th>\n",
       "      <td>644747</td>\n",
       "      <td>6304</td>\n",
       "      <td>444</td>\n",
       "    </tr>\n",
       "    <tr>\n",
       "      <th>6704514</th>\n",
       "      <td>1549078</td>\n",
       "      <td>7499</td>\n",
       "      <td>435</td>\n",
       "    </tr>\n",
       "    <tr>\n",
       "      <th>5116900</th>\n",
       "      <td>1184349</td>\n",
       "      <td>76248</td>\n",
       "      <td>435</td>\n",
       "    </tr>\n",
       "  </tbody>\n",
       "</table>\n",
       "</div>"
      ],
      "text/plain": [
       "         customer_id  product_id  event_type\n",
       "9247622      2138502       10450         550\n",
       "3614166       836610        7499         460\n",
       "2785564       644747        6304         444\n",
       "6704514      1549078        7499         435\n",
       "5116900      1184349       76248         435"
      ]
     },
     "execution_count": 16,
     "metadata": {},
     "output_type": "execute_result"
    }
   ],
   "source": [
    "prepared_df.head()"
   ]
  },
  {
   "cell_type": "markdown",
   "metadata": {},
   "source": [
    "# Rozdelenie na trénovaciu a testovaciu zložku"
   ]
  },
  {
   "cell_type": "code",
   "execution_count": 17,
   "metadata": {},
   "outputs": [],
   "source": [
    "from sklearn.model_selection import train_test_split"
   ]
  },
  {
   "cell_type": "code",
   "execution_count": 18,
   "metadata": {},
   "outputs": [
    {
     "data": {
      "text/plain": [
       "0"
      ]
     },
     "execution_count": 18,
     "metadata": {},
     "output_type": "execute_result"
    }
   ],
   "source": [
    "df_train, df_test = train_test_split(prepared_df, test_size=0.99, shuffle=False)\n",
    "\n",
    "del [[prepared_df]]\n",
    "gc.collect()"
   ]
  },
  {
   "cell_type": "code",
   "execution_count": 19,
   "metadata": {},
   "outputs": [
    {
     "name": "stdout",
     "output_type": "stream",
     "text": [
      "<class 'pandas.core.frame.DataFrame'>\n",
      "Int64Index: 95659 entries, 9247622 to 5344672\n",
      "Data columns (total 3 columns):\n",
      "customer_id    95659 non-null int64\n",
      "product_id     95659 non-null int64\n",
      "event_type     95659 non-null int64\n",
      "dtypes: int64(3)\n",
      "memory usage: 2.9 MB\n"
     ]
    }
   ],
   "source": [
    "df_train.info()"
   ]
  },
  {
   "cell_type": "code",
   "execution_count": 20,
   "metadata": {},
   "outputs": [
    {
     "name": "stdout",
     "output_type": "stream",
     "text": [
      "<class 'pandas.core.frame.DataFrame'>\n",
      "Int64Index: 9470255 entries, 130573 to 9565913\n",
      "Data columns (total 3 columns):\n",
      "customer_id    int64\n",
      "product_id     int64\n",
      "event_type     int64\n",
      "dtypes: int64(3)\n",
      "memory usage: 289.0 MB\n"
     ]
    }
   ],
   "source": [
    "df_test.info()"
   ]
  },
  {
   "cell_type": "code",
   "execution_count": 21,
   "metadata": {},
   "outputs": [
    {
     "data": {
      "text/html": [
       "<div>\n",
       "<style scoped>\n",
       "    .dataframe tbody tr th:only-of-type {\n",
       "        vertical-align: middle;\n",
       "    }\n",
       "\n",
       "    .dataframe tbody tr th {\n",
       "        vertical-align: top;\n",
       "    }\n",
       "\n",
       "    .dataframe thead th {\n",
       "        text-align: right;\n",
       "    }\n",
       "</style>\n",
       "<table border=\"1\" class=\"dataframe\">\n",
       "  <thead>\n",
       "    <tr style=\"text-align: right;\">\n",
       "      <th></th>\n",
       "      <th>customer_id</th>\n",
       "      <th>product_id</th>\n",
       "      <th>event_type</th>\n",
       "    </tr>\n",
       "  </thead>\n",
       "  <tbody>\n",
       "    <tr>\n",
       "      <th>130573</th>\n",
       "      <td>30272</td>\n",
       "      <td>114934</td>\n",
       "      <td>7</td>\n",
       "    </tr>\n",
       "    <tr>\n",
       "      <th>8888237</th>\n",
       "      <td>2055495</td>\n",
       "      <td>46021</td>\n",
       "      <td>7</td>\n",
       "    </tr>\n",
       "    <tr>\n",
       "      <th>4953448</th>\n",
       "      <td>1146289</td>\n",
       "      <td>63415</td>\n",
       "      <td>7</td>\n",
       "    </tr>\n",
       "    <tr>\n",
       "      <th>3095417</th>\n",
       "      <td>717199</td>\n",
       "      <td>81732</td>\n",
       "      <td>7</td>\n",
       "    </tr>\n",
       "    <tr>\n",
       "      <th>3309484</th>\n",
       "      <td>766378</td>\n",
       "      <td>95239</td>\n",
       "      <td>7</td>\n",
       "    </tr>\n",
       "    <tr>\n",
       "      <th>...</th>\n",
       "      <td>...</td>\n",
       "      <td>...</td>\n",
       "      <td>...</td>\n",
       "    </tr>\n",
       "    <tr>\n",
       "      <th>3707778</th>\n",
       "      <td>858422</td>\n",
       "      <td>108621</td>\n",
       "      <td>1</td>\n",
       "    </tr>\n",
       "    <tr>\n",
       "      <th>3707777</th>\n",
       "      <td>858422</td>\n",
       "      <td>108416</td>\n",
       "      <td>1</td>\n",
       "    </tr>\n",
       "    <tr>\n",
       "      <th>3707776</th>\n",
       "      <td>858422</td>\n",
       "      <td>108143</td>\n",
       "      <td>1</td>\n",
       "    </tr>\n",
       "    <tr>\n",
       "      <th>3707775</th>\n",
       "      <td>858422</td>\n",
       "      <td>106772</td>\n",
       "      <td>1</td>\n",
       "    </tr>\n",
       "    <tr>\n",
       "      <th>9565913</th>\n",
       "      <td>2211385</td>\n",
       "      <td>59532</td>\n",
       "      <td>1</td>\n",
       "    </tr>\n",
       "  </tbody>\n",
       "</table>\n",
       "<p>9470255 rows × 3 columns</p>\n",
       "</div>"
      ],
      "text/plain": [
       "         customer_id  product_id  event_type\n",
       "130573         30272      114934           7\n",
       "8888237      2055495       46021           7\n",
       "4953448      1146289       63415           7\n",
       "3095417       717199       81732           7\n",
       "3309484       766378       95239           7\n",
       "...              ...         ...         ...\n",
       "3707778       858422      108621           1\n",
       "3707777       858422      108416           1\n",
       "3707776       858422      108143           1\n",
       "3707775       858422      106772           1\n",
       "9565913      2211385       59532           1\n",
       "\n",
       "[9470255 rows x 3 columns]"
      ]
     },
     "execution_count": 21,
     "metadata": {},
     "output_type": "execute_result"
    }
   ],
   "source": [
    "df_test"
   ]
  },
  {
   "cell_type": "markdown",
   "metadata": {},
   "source": [
    "# Prehľad trénovacích a testovacích dát"
   ]
  },
  {
   "cell_type": "code",
   "execution_count": 22,
   "metadata": {},
   "outputs": [
    {
     "data": {
      "text/html": [
       "<div>\n",
       "<style scoped>\n",
       "    .dataframe tbody tr th:only-of-type {\n",
       "        vertical-align: middle;\n",
       "    }\n",
       "\n",
       "    .dataframe tbody tr th {\n",
       "        vertical-align: top;\n",
       "    }\n",
       "\n",
       "    .dataframe thead th {\n",
       "        text-align: right;\n",
       "    }\n",
       "</style>\n",
       "<table border=\"1\" class=\"dataframe\">\n",
       "  <thead>\n",
       "    <tr style=\"text-align: right;\">\n",
       "      <th></th>\n",
       "      <th>customer_id</th>\n",
       "      <th>product_id</th>\n",
       "      <th>event_type</th>\n",
       "    </tr>\n",
       "  </thead>\n",
       "  <tbody>\n",
       "    <tr>\n",
       "      <th>130573</th>\n",
       "      <td>30272</td>\n",
       "      <td>114934</td>\n",
       "      <td>7</td>\n",
       "    </tr>\n",
       "    <tr>\n",
       "      <th>8888237</th>\n",
       "      <td>2055495</td>\n",
       "      <td>46021</td>\n",
       "      <td>7</td>\n",
       "    </tr>\n",
       "    <tr>\n",
       "      <th>4953448</th>\n",
       "      <td>1146289</td>\n",
       "      <td>63415</td>\n",
       "      <td>7</td>\n",
       "    </tr>\n",
       "    <tr>\n",
       "      <th>3095417</th>\n",
       "      <td>717199</td>\n",
       "      <td>81732</td>\n",
       "      <td>7</td>\n",
       "    </tr>\n",
       "    <tr>\n",
       "      <th>3309484</th>\n",
       "      <td>766378</td>\n",
       "      <td>95239</td>\n",
       "      <td>7</td>\n",
       "    </tr>\n",
       "  </tbody>\n",
       "</table>\n",
       "</div>"
      ],
      "text/plain": [
       "         customer_id  product_id  event_type\n",
       "130573         30272      114934           7\n",
       "8888237      2055495       46021           7\n",
       "4953448      1146289       63415           7\n",
       "3095417       717199       81732           7\n",
       "3309484       766378       95239           7"
      ]
     },
     "execution_count": 22,
     "metadata": {},
     "output_type": "execute_result"
    }
   ],
   "source": [
    "df_test.head()"
   ]
  },
  {
   "cell_type": "code",
   "execution_count": 23,
   "metadata": {},
   "outputs": [
    {
     "data": {
      "text/html": [
       "<div>\n",
       "<style scoped>\n",
       "    .dataframe tbody tr th:only-of-type {\n",
       "        vertical-align: middle;\n",
       "    }\n",
       "\n",
       "    .dataframe tbody tr th {\n",
       "        vertical-align: top;\n",
       "    }\n",
       "\n",
       "    .dataframe thead th {\n",
       "        text-align: right;\n",
       "    }\n",
       "</style>\n",
       "<table border=\"1\" class=\"dataframe\">\n",
       "  <thead>\n",
       "    <tr style=\"text-align: right;\">\n",
       "      <th></th>\n",
       "      <th>customer_id</th>\n",
       "      <th>product_id</th>\n",
       "      <th>event_type</th>\n",
       "    </tr>\n",
       "  </thead>\n",
       "  <tbody>\n",
       "    <tr>\n",
       "      <th>9247622</th>\n",
       "      <td>2138502</td>\n",
       "      <td>10450</td>\n",
       "      <td>550</td>\n",
       "    </tr>\n",
       "    <tr>\n",
       "      <th>3614166</th>\n",
       "      <td>836610</td>\n",
       "      <td>7499</td>\n",
       "      <td>460</td>\n",
       "    </tr>\n",
       "    <tr>\n",
       "      <th>2785564</th>\n",
       "      <td>644747</td>\n",
       "      <td>6304</td>\n",
       "      <td>444</td>\n",
       "    </tr>\n",
       "    <tr>\n",
       "      <th>6704514</th>\n",
       "      <td>1549078</td>\n",
       "      <td>7499</td>\n",
       "      <td>435</td>\n",
       "    </tr>\n",
       "    <tr>\n",
       "      <th>5116900</th>\n",
       "      <td>1184349</td>\n",
       "      <td>76248</td>\n",
       "      <td>435</td>\n",
       "    </tr>\n",
       "  </tbody>\n",
       "</table>\n",
       "</div>"
      ],
      "text/plain": [
       "         customer_id  product_id  event_type\n",
       "9247622      2138502       10450         550\n",
       "3614166       836610        7499         460\n",
       "2785564       644747        6304         444\n",
       "6704514      1549078        7499         435\n",
       "5116900      1184349       76248         435"
      ]
     },
     "execution_count": 23,
     "metadata": {},
     "output_type": "execute_result"
    }
   ],
   "source": [
    "df_train.head()"
   ]
  },
  {
   "cell_type": "markdown",
   "metadata": {},
   "source": [
    "# Tvorba sparse matrix"
   ]
  },
  {
   "cell_type": "markdown",
   "metadata": {},
   "source": [
    "robím podla tohoto\n",
    "https://towardsdatascience.com/prototyping-a-recommender-system-step-by-step-part-1-knn-item-based-collaborative-filtering-637969614ea"
   ]
  },
  {
   "cell_type": "markdown",
   "metadata": {},
   "source": [
    "Ktorú sparse_matrix použiť:\n",
    "https://cmdlinetips.com/2018/03/sparse-matrices-in-python-with-scipy/"
   ]
  },
  {
   "cell_type": "code",
   "execution_count": 24,
   "metadata": {},
   "outputs": [],
   "source": [
    "from scipy.sparse import coo_matrix"
   ]
  },
  {
   "cell_type": "code",
   "execution_count": 25,
   "metadata": {},
   "outputs": [],
   "source": [
    "mat_coo = coo_matrix(\n",
    "    (\n",
    "        np.array(df_train['event_type']), \n",
    "        (\n",
    "            np.array(df_train['product_id']), \n",
    "            np.array(df_train['customer_id'])\n",
    "        )\n",
    "    )\n",
    ")"
   ]
  },
  {
   "cell_type": "code",
   "execution_count": 26,
   "metadata": {},
   "outputs": [],
   "source": [
    "mat_csr = mat_coo.tocsr(copy=False)"
   ]
  },
  {
   "cell_type": "code",
   "execution_count": 27,
   "metadata": {},
   "outputs": [
    {
     "data": {
      "text/plain": [
       "(123837, 2211272)"
      ]
     },
     "execution_count": 27,
     "metadata": {},
     "output_type": "execute_result"
    }
   ],
   "source": [
    "mat_csr.shape"
   ]
  },
  {
   "cell_type": "markdown",
   "metadata": {},
   "source": [
    "# Odporúčanie"
   ]
  },
  {
   "cell_type": "code",
   "execution_count": 28,
   "metadata": {},
   "outputs": [],
   "source": [
    "from sklearn.neighbors import NearestNeighbors"
   ]
  },
  {
   "cell_type": "code",
   "execution_count": 30,
   "metadata": {},
   "outputs": [
    {
     "data": {
      "text/plain": [
       "NearestNeighbors(algorithm='brute', leaf_size=30, metric='cosine',\n",
       "                 metric_params=None, n_jobs=-1, n_neighbors=20, p=2,\n",
       "                 radius=1.0)"
      ]
     },
     "execution_count": 30,
     "metadata": {},
     "output_type": "execute_result"
    }
   ],
   "source": [
    "model_knn = NearestNeighbors(metric='cosine', algorithm='brute', n_neighbors=20, n_jobs=-1)\n",
    "model_knn.fit(mat_csr)"
   ]
  },
  {
   "cell_type": "code",
   "execution_count": 39,
   "metadata": {},
   "outputs": [],
   "source": [
    "def recommend(model_knn, data, index, n_recos): \n",
    "    distances, indices = model_knn.kneighbors(data[index], n_neighbors=n_recos + 1)\n",
    "    \n",
    "    product_ids = le_product.inverse_transform(indices[0])\n",
    "    \n",
    "    return distances[0], product_ids"
   ]
  },
  {
   "cell_type": "code",
   "execution_count": 44,
   "metadata": {},
   "outputs": [
    {
     "name": "stdout",
     "output_type": "stream",
     "text": [
      "Recommended item: c552587b-cb1e-4698-a101-3c8a4762b40a with distance 3.3306690738754696e-16.\n",
      "Recommended item: 9480b05d-dd2f-4104-ac8a-ef3c1767a975 with distance 0.8292518940100772.\n",
      "Recommended item: 8460e0f9-d46f-421d-8939-6d47f02dc7b1 with distance 0.8812737486722363.\n",
      "Recommended item: 31ae211d-57a9-4bfa-b95f-40776af03c3f with distance 0.8820942356738127.\n",
      "Recommended item: ca2cb8ca-595d-48e1-aea2-c53e08f73ab4 with distance 0.8942370121273663.\n",
      "Recommended item: de1b9182-defe-4c9f-8111-18fb8f1fa6c5 with distance 0.9022970710565205.\n",
      "Recommended item: 33402bf2-b5b2-417e-aff1-fca439e18505 with distance 0.9067305085106581.\n",
      "Recommended item: 67034a76-e06f-416c-ad25-2912593b10f0 with distance 0.9109553115041773.\n",
      "Recommended item: 9d185422-4597-4ee8-8910-0e5913e22162 with distance 0.9109553115041773.\n",
      "Recommended item: 6f5c4a48-8c61-4eeb-a2f4-38dd068f2172 with distance 0.9109553115041773.\n"
     ]
    }
   ],
   "source": [
    "distances, product_ids = recommend(model_knn, mat_csr, 95239, 10)\n",
    "\n",
    "for distance, product_id in zip(distances, product_ids):\n",
    "    print(f\"Recommended item: {product_id} with distance {distance}.\")"
   ]
  },
  {
   "cell_type": "code",
   "execution_count": null,
   "metadata": {},
   "outputs": [],
   "source": []
  }
 ],
 "metadata": {
  "kernelspec": {
   "display_name": "Python 3",
   "language": "python",
   "name": "python3"
  },
  "language_info": {
   "codemirror_mode": {
    "name": "ipython",
    "version": 3
   },
   "file_extension": ".py",
   "mimetype": "text/x-python",
   "name": "python",
   "nbconvert_exporter": "python",
   "pygments_lexer": "ipython3",
   "version": "3.7.0"
  }
 },
 "nbformat": 4,
 "nbformat_minor": 2
}
