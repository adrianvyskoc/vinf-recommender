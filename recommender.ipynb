{
 "cells": [
  {
   "cell_type": "code",
   "execution_count": 139,
   "metadata": {},
   "outputs": [],
   "source": [
    "import pandas as pd\n",
    "import numpy as np\n",
    "import gc"
   ]
  },
  {
   "cell_type": "code",
   "execution_count": 140,
   "metadata": {},
   "outputs": [
    {
     "name": "stderr",
     "output_type": "stream",
     "text": [
      "/usr/local/lib/python3.7/site-packages/IPython/core/interactiveshell.py:3058: DtypeWarning: Columns (5) have mixed types. Specify dtype option on import or set low_memory=False.\n",
      "  interactivity=interactivity, compiler=compiler, result=result)\n"
     ]
    }
   ],
   "source": [
    "df_events = pd.read_csv('./vi_data/events_train.csv')\n",
    "df_purchases = pd.read_csv('./vi_data/purchases_train.csv')"
   ]
  },
  {
   "cell_type": "markdown",
   "metadata": {},
   "source": [
    "# Nápady"
   ]
  },
  {
   "cell_type": "markdown",
   "metadata": {},
   "source": [
    "https://heartbeat.fritz.ai/recommender-systems-with-python-part-i-content-based-filtering-5df4940bd831\n",
    "https://towardsdatascience.com/prototyping-a-recommender-system-step-by-step-part-1-knn-item-based-collaborative-filtering-637969614ea\n",
    "https://www.youtube.com/watch?v=Ty3Ui_mQtxY"
   ]
  },
  {
   "cell_type": "markdown",
   "metadata": {},
   "source": [
    "# Prehľad dát"
   ]
  },
  {
   "cell_type": "code",
   "execution_count": 141,
   "metadata": {},
   "outputs": [
    {
     "data": {
      "text/html": [
       "<div>\n",
       "<style scoped>\n",
       "    .dataframe tbody tr th:only-of-type {\n",
       "        vertical-align: middle;\n",
       "    }\n",
       "\n",
       "    .dataframe tbody tr th {\n",
       "        vertical-align: top;\n",
       "    }\n",
       "\n",
       "    .dataframe thead th {\n",
       "        text-align: right;\n",
       "    }\n",
       "</style>\n",
       "<table border=\"1\" class=\"dataframe\">\n",
       "  <thead>\n",
       "    <tr style=\"text-align: right;\">\n",
       "      <th></th>\n",
       "      <th>customer_id</th>\n",
       "      <th>timestamp</th>\n",
       "      <th>event_type</th>\n",
       "      <th>product_id</th>\n",
       "      <th>title</th>\n",
       "      <th>category_name</th>\n",
       "      <th>price</th>\n",
       "    </tr>\n",
       "  </thead>\n",
       "  <tbody>\n",
       "    <tr>\n",
       "      <th>0</th>\n",
       "      <td>204685f9-00f0-4a36-bab1-e0b74673c3b1</td>\n",
       "      <td>2019-07-01 00:00:01.101977 UTC</td>\n",
       "      <td>view_item</td>\n",
       "      <td>f130c542-d793-41d0-88f6-d1c52b4fe8f0</td>\n",
       "      <td>Michael Kors Nappa Leather Racer Jacket</td>\n",
       "      <td>NaN</td>\n",
       "      <td>747.49</td>\n",
       "    </tr>\n",
       "    <tr>\n",
       "      <th>1</th>\n",
       "      <td>552445a5-f41d-4b25-b479-4e776d9bee61</td>\n",
       "      <td>2019-07-01 00:00:01.901589 UTC</td>\n",
       "      <td>view_item</td>\n",
       "      <td>29db8f57-49bd-4108-a0bb-0d245278e999</td>\n",
       "      <td>Puma Woven Shorts Girls</td>\n",
       "      <td>NaN</td>\n",
       "      <td>11.92</td>\n",
       "    </tr>\n",
       "    <tr>\n",
       "      <th>2</th>\n",
       "      <td>fac01f48-a03a-41f2-acd5-b5f4e407d9c2</td>\n",
       "      <td>2019-07-01 00:00:08.954928 UTC</td>\n",
       "      <td>view_item</td>\n",
       "      <td>a90bddc4-8eb7-4c99-aa4f-2f2377c246a2</td>\n",
       "      <td>Trendyol Multi-colored Flywheel Detailed Swimwear</td>\n",
       "      <td>NaN</td>\n",
       "      <td>23.85</td>\n",
       "    </tr>\n",
       "    <tr>\n",
       "      <th>3</th>\n",
       "      <td>552445a5-f41d-4b25-b479-4e776d9bee61</td>\n",
       "      <td>2019-07-01 00:00:09.721589 UTC</td>\n",
       "      <td>view_item</td>\n",
       "      <td>600268e1-a2ba-4b1b-ab57-58c577412af0</td>\n",
       "      <td>Puma Woven Shorts Girls</td>\n",
       "      <td>NaN</td>\n",
       "      <td>11.92</td>\n",
       "    </tr>\n",
       "    <tr>\n",
       "      <th>4</th>\n",
       "      <td>bc59a341-040f-41ea-8f33-cc4a02c2d85d</td>\n",
       "      <td>2019-07-01 00:00:13.745257 UTC</td>\n",
       "      <td>view_item</td>\n",
       "      <td>b74e0b38-1efe-4d86-9718-952cc2580212</td>\n",
       "      <td>Women's dress ROXY NEW LEASEOFLIFE J KTDR</td>\n",
       "      <td>NaN</td>\n",
       "      <td>40.00</td>\n",
       "    </tr>\n",
       "  </tbody>\n",
       "</table>\n",
       "</div>"
      ],
      "text/plain": [
       "                            customer_id                       timestamp  \\\n",
       "0  204685f9-00f0-4a36-bab1-e0b74673c3b1  2019-07-01 00:00:01.101977 UTC   \n",
       "1  552445a5-f41d-4b25-b479-4e776d9bee61  2019-07-01 00:00:01.901589 UTC   \n",
       "2  fac01f48-a03a-41f2-acd5-b5f4e407d9c2  2019-07-01 00:00:08.954928 UTC   \n",
       "3  552445a5-f41d-4b25-b479-4e776d9bee61  2019-07-01 00:00:09.721589 UTC   \n",
       "4  bc59a341-040f-41ea-8f33-cc4a02c2d85d  2019-07-01 00:00:13.745257 UTC   \n",
       "\n",
       "  event_type                            product_id  \\\n",
       "0  view_item  f130c542-d793-41d0-88f6-d1c52b4fe8f0   \n",
       "1  view_item  29db8f57-49bd-4108-a0bb-0d245278e999   \n",
       "2  view_item  a90bddc4-8eb7-4c99-aa4f-2f2377c246a2   \n",
       "3  view_item  600268e1-a2ba-4b1b-ab57-58c577412af0   \n",
       "4  view_item  b74e0b38-1efe-4d86-9718-952cc2580212   \n",
       "\n",
       "                                               title category_name   price  \n",
       "0            Michael Kors Nappa Leather Racer Jacket           NaN  747.49  \n",
       "1                            Puma Woven Shorts Girls           NaN   11.92  \n",
       "2  Trendyol Multi-colored Flywheel Detailed Swimwear           NaN   23.85  \n",
       "3                            Puma Woven Shorts Girls           NaN   11.92  \n",
       "4          Women's dress ROXY NEW LEASEOFLIFE J KTDR           NaN   40.00  "
      ]
     },
     "execution_count": 141,
     "metadata": {},
     "output_type": "execute_result"
    }
   ],
   "source": [
    "df_events.head()"
   ]
  },
  {
   "cell_type": "code",
   "execution_count": 142,
   "metadata": {},
   "outputs": [
    {
     "data": {
      "text/html": [
       "<div>\n",
       "<style scoped>\n",
       "    .dataframe tbody tr th:only-of-type {\n",
       "        vertical-align: middle;\n",
       "    }\n",
       "\n",
       "    .dataframe tbody tr th {\n",
       "        vertical-align: top;\n",
       "    }\n",
       "\n",
       "    .dataframe thead th {\n",
       "        text-align: right;\n",
       "    }\n",
       "</style>\n",
       "<table border=\"1\" class=\"dataframe\">\n",
       "  <thead>\n",
       "    <tr style=\"text-align: right;\">\n",
       "      <th></th>\n",
       "      <th>customer_id</th>\n",
       "      <th>timestamp</th>\n",
       "      <th>event_type</th>\n",
       "      <th>product_id</th>\n",
       "      <th>title</th>\n",
       "      <th>category_name</th>\n",
       "      <th>price</th>\n",
       "    </tr>\n",
       "  </thead>\n",
       "  <tbody>\n",
       "    <tr>\n",
       "      <th>0</th>\n",
       "      <td>0d1b7397-7d3c-44c0-9efc-d38bf197828b</td>\n",
       "      <td>2019-07-01 00:05:54.308966 UTC</td>\n",
       "      <td>purchase_item</td>\n",
       "      <td>954f9f2c-d3ca-4236-ac9a-4ea7bcf09305</td>\n",
       "      <td>Trendyol Leopard print Bikini bottom</td>\n",
       "      <td>NaN</td>\n",
       "      <td>NaN</td>\n",
       "    </tr>\n",
       "    <tr>\n",
       "      <th>1</th>\n",
       "      <td>81ccae7e-e496-4997-a289-4669bf53f33e</td>\n",
       "      <td>2019-07-01 00:20:03.404186 UTC</td>\n",
       "      <td>purchase_item</td>\n",
       "      <td>75b281e5-8a16-42cb-9ae0-9a98db7a2c40</td>\n",
       "      <td>No Fear Reflect Shorts Mens</td>\n",
       "      <td>NaN</td>\n",
       "      <td>NaN</td>\n",
       "    </tr>\n",
       "    <tr>\n",
       "      <th>2</th>\n",
       "      <td>50777c55-8dd6-4309-a5ca-26e66c8a8279</td>\n",
       "      <td>2019-07-01 00:34:35.989935 UTC</td>\n",
       "      <td>purchase_item</td>\n",
       "      <td>0112dec8-47f5-4c2c-9109-571e2dbb6345</td>\n",
       "      <td>Trendyol Multicolor camisole Blouse</td>\n",
       "      <td>NaN</td>\n",
       "      <td>NaN</td>\n",
       "    </tr>\n",
       "    <tr>\n",
       "      <th>3</th>\n",
       "      <td>50777c55-8dd6-4309-a5ca-26e66c8a8279</td>\n",
       "      <td>2019-07-01 00:34:35.991935 UTC</td>\n",
       "      <td>purchase_item</td>\n",
       "      <td>0fa25a2d-2aa1-4397-82f1-5a64f3b1272d</td>\n",
       "      <td>Trendyol White High Waist Skinny Jeans</td>\n",
       "      <td>NaN</td>\n",
       "      <td>NaN</td>\n",
       "    </tr>\n",
       "    <tr>\n",
       "      <th>4</th>\n",
       "      <td>647d269f-b18f-4558-8653-93369d862ec9</td>\n",
       "      <td>2019-07-01 00:52:53.083698 UTC</td>\n",
       "      <td>purchase_item</td>\n",
       "      <td>81c01216-55a9-4588-a722-bccf0bf35fd5</td>\n",
       "      <td>Firetrap Lazer Polo Shirt</td>\n",
       "      <td>NaN</td>\n",
       "      <td>NaN</td>\n",
       "    </tr>\n",
       "  </tbody>\n",
       "</table>\n",
       "</div>"
      ],
      "text/plain": [
       "                            customer_id                       timestamp  \\\n",
       "0  0d1b7397-7d3c-44c0-9efc-d38bf197828b  2019-07-01 00:05:54.308966 UTC   \n",
       "1  81ccae7e-e496-4997-a289-4669bf53f33e  2019-07-01 00:20:03.404186 UTC   \n",
       "2  50777c55-8dd6-4309-a5ca-26e66c8a8279  2019-07-01 00:34:35.989935 UTC   \n",
       "3  50777c55-8dd6-4309-a5ca-26e66c8a8279  2019-07-01 00:34:35.991935 UTC   \n",
       "4  647d269f-b18f-4558-8653-93369d862ec9  2019-07-01 00:52:53.083698 UTC   \n",
       "\n",
       "      event_type                            product_id  \\\n",
       "0  purchase_item  954f9f2c-d3ca-4236-ac9a-4ea7bcf09305   \n",
       "1  purchase_item  75b281e5-8a16-42cb-9ae0-9a98db7a2c40   \n",
       "2  purchase_item  0112dec8-47f5-4c2c-9109-571e2dbb6345   \n",
       "3  purchase_item  0fa25a2d-2aa1-4397-82f1-5a64f3b1272d   \n",
       "4  purchase_item  81c01216-55a9-4588-a722-bccf0bf35fd5   \n",
       "\n",
       "                                    title category_name  price  \n",
       "0    Trendyol Leopard print Bikini bottom           NaN    NaN  \n",
       "1             No Fear Reflect Shorts Mens           NaN    NaN  \n",
       "2     Trendyol Multicolor camisole Blouse           NaN    NaN  \n",
       "3  Trendyol White High Waist Skinny Jeans           NaN    NaN  \n",
       "4               Firetrap Lazer Polo Shirt           NaN    NaN  "
      ]
     },
     "execution_count": 142,
     "metadata": {},
     "output_type": "execute_result"
    }
   ],
   "source": [
    "df_purchases.head()"
   ]
  },
  {
   "cell_type": "markdown",
   "metadata": {},
   "source": [
    "## Informácie o dátach"
   ]
  },
  {
   "cell_type": "code",
   "execution_count": 143,
   "metadata": {},
   "outputs": [
    {
     "name": "stdout",
     "output_type": "stream",
     "text": [
      "<class 'pandas.core.frame.DataFrame'>\n",
      "RangeIndex: 14614385 entries, 0 to 14614384\n",
      "Data columns (total 7 columns):\n",
      "customer_id      object\n",
      "timestamp        object\n",
      "event_type       object\n",
      "product_id       object\n",
      "title            object\n",
      "category_name    object\n",
      "price            float64\n",
      "dtypes: float64(1), object(6)\n",
      "memory usage: 780.5+ MB\n"
     ]
    }
   ],
   "source": [
    "df_events.info()"
   ]
  },
  {
   "cell_type": "code",
   "execution_count": 144,
   "metadata": {},
   "outputs": [
    {
     "name": "stdout",
     "output_type": "stream",
     "text": [
      "<class 'pandas.core.frame.DataFrame'>\n",
      "RangeIndex: 188712 entries, 0 to 188711\n",
      "Data columns (total 7 columns):\n",
      "customer_id      188712 non-null object\n",
      "timestamp        188712 non-null object\n",
      "event_type       188712 non-null object\n",
      "product_id       188712 non-null object\n",
      "title            188684 non-null object\n",
      "category_name    143814 non-null object\n",
      "price            143826 non-null float64\n",
      "dtypes: float64(1), object(6)\n",
      "memory usage: 10.1+ MB\n"
     ]
    }
   ],
   "source": [
    "df_purchases.info()"
   ]
  },
  {
   "cell_type": "markdown",
   "metadata": {},
   "source": [
    "# Predspracovanie dát"
   ]
  },
  {
   "cell_type": "code",
   "execution_count": 145,
   "metadata": {},
   "outputs": [],
   "source": [
    "from sklearn import preprocessing"
   ]
  },
  {
   "cell_type": "code",
   "execution_count": 146,
   "metadata": {},
   "outputs": [
    {
     "data": {
      "text/plain": [
       "1510"
      ]
     },
     "execution_count": 146,
     "metadata": {},
     "output_type": "execute_result"
    }
   ],
   "source": [
    "# spojenie dát\n",
    "df = pd.concat([df_events, df_purchases])\n",
    "\n",
    "del [[df_events, df_purchases]]\n",
    "gc.collect()"
   ]
  },
  {
   "cell_type": "code",
   "execution_count": 147,
   "metadata": {},
   "outputs": [],
   "source": [
    "df.sort_values(by=['timestamp'], inplace=True, ascending=True)"
   ]
  },
  {
   "cell_type": "code",
   "execution_count": 148,
   "metadata": {},
   "outputs": [],
   "source": [
    "df.drop(['price'], axis=1, inplace=True)"
   ]
  },
  {
   "cell_type": "code",
   "execution_count": 149,
   "metadata": {},
   "outputs": [],
   "source": [
    "df['event_type'] = df['event_type'].replace({ 'view_item': 1, 'purchase_item': 2 })"
   ]
  },
  {
   "cell_type": "markdown",
   "metadata": {},
   "source": [
    "## Zakódovanie idčiek"
   ]
  },
  {
   "cell_type": "code",
   "execution_count": 150,
   "metadata": {},
   "outputs": [],
   "source": [
    "from sklearn import preprocessing"
   ]
  },
  {
   "cell_type": "code",
   "execution_count": 151,
   "metadata": {},
   "outputs": [],
   "source": [
    "le_customer = preprocessing.LabelEncoder()\n",
    "le_product = preprocessing.LabelEncoder()\n",
    "\n",
    "df['customer_id'] = le_customer.fit_transform(df['customer_id'])\n",
    "df['product_id'] = le_product.fit_transform(df['product_id'])"
   ]
  },
  {
   "cell_type": "markdown",
   "metadata": {},
   "source": [
    "## Rozdelenie na trénovaciu a testovaciu zložku"
   ]
  },
  {
   "cell_type": "code",
   "execution_count": 152,
   "metadata": {},
   "outputs": [],
   "source": [
    "from sklearn.model_selection import train_test_split"
   ]
  },
  {
   "cell_type": "code",
   "execution_count": 153,
   "metadata": {},
   "outputs": [],
   "source": [
    "df_train, df_test = train_test_split(df, test_size=0.20, shuffle=False)"
   ]
  },
  {
   "cell_type": "code",
   "execution_count": 154,
   "metadata": {},
   "outputs": [
    {
     "name": "stdout",
     "output_type": "stream",
     "text": [
      "<class 'pandas.core.frame.DataFrame'>\n",
      "Int64Index: 11842477 entries, 0 to 11689792\n",
      "Data columns (total 6 columns):\n",
      "customer_id      int64\n",
      "timestamp        object\n",
      "event_type       int64\n",
      "product_id       int64\n",
      "title            object\n",
      "category_name    object\n",
      "dtypes: int64(3), object(3)\n",
      "memory usage: 632.5+ MB\n"
     ]
    }
   ],
   "source": [
    "df_train.info()"
   ]
  },
  {
   "cell_type": "code",
   "execution_count": 155,
   "metadata": {
    "scrolled": true
   },
   "outputs": [
    {
     "name": "stdout",
     "output_type": "stream",
     "text": [
      "<class 'pandas.core.frame.DataFrame'>\n",
      "Int64Index: 2960620 entries, 11689793 to 14614384\n",
      "Data columns (total 6 columns):\n",
      "customer_id      int64\n",
      "timestamp        object\n",
      "event_type       int64\n",
      "product_id       int64\n",
      "title            object\n",
      "category_name    object\n",
      "dtypes: int64(3), object(3)\n",
      "memory usage: 158.1+ MB\n"
     ]
    }
   ],
   "source": [
    "df_test.info()"
   ]
  },
  {
   "cell_type": "markdown",
   "metadata": {},
   "source": [
    "### Prehľad trénovacích a testovacích dát"
   ]
  },
  {
   "cell_type": "code",
   "execution_count": 156,
   "metadata": {
    "scrolled": true
   },
   "outputs": [
    {
     "data": {
      "text/html": [
       "<div>\n",
       "<style scoped>\n",
       "    .dataframe tbody tr th:only-of-type {\n",
       "        vertical-align: middle;\n",
       "    }\n",
       "\n",
       "    .dataframe tbody tr th {\n",
       "        vertical-align: top;\n",
       "    }\n",
       "\n",
       "    .dataframe thead th {\n",
       "        text-align: right;\n",
       "    }\n",
       "</style>\n",
       "<table border=\"1\" class=\"dataframe\">\n",
       "  <thead>\n",
       "    <tr style=\"text-align: right;\">\n",
       "      <th></th>\n",
       "      <th>customer_id</th>\n",
       "      <th>timestamp</th>\n",
       "      <th>event_type</th>\n",
       "      <th>product_id</th>\n",
       "      <th>title</th>\n",
       "      <th>category_name</th>\n",
       "    </tr>\n",
       "  </thead>\n",
       "  <tbody>\n",
       "    <tr>\n",
       "      <th>11689793</th>\n",
       "      <td>1218557</td>\n",
       "      <td>2019-08-21 07:57:53.361388 UTC</td>\n",
       "      <td>1</td>\n",
       "      <td>26125</td>\n",
       "      <td>Trendyol Multi-colored Plisse Skirt</td>\n",
       "      <td>Women&gt;Women's Clothing&gt;Skirts&gt;Midi skirts</td>\n",
       "    </tr>\n",
       "    <tr>\n",
       "      <th>11689794</th>\n",
       "      <td>545607</td>\n",
       "      <td>2019-08-21 07:57:53.372592 UTC</td>\n",
       "      <td>1</td>\n",
       "      <td>54241</td>\n",
       "      <td>Trendyol He's The Only Color We Block, Swimsuit</td>\n",
       "      <td>Women&gt;Women's Clothing&gt;Swimmsuits &amp; bikins&gt;One...</td>\n",
       "    </tr>\n",
       "    <tr>\n",
       "      <th>11689795</th>\n",
       "      <td>881435</td>\n",
       "      <td>2019-08-21 07:57:53.532665 UTC</td>\n",
       "      <td>1</td>\n",
       "      <td>54376</td>\n",
       "      <td>Women's jacket NORTHFINDER EMMALINE</td>\n",
       "      <td>Women&gt;Women's Clothing&gt;Jackets &amp; Coats&gt;Quilted...</td>\n",
       "    </tr>\n",
       "    <tr>\n",
       "      <th>11689796</th>\n",
       "      <td>262051</td>\n",
       "      <td>2019-08-21 07:57:53.700887 UTC</td>\n",
       "      <td>1</td>\n",
       "      <td>27195</td>\n",
       "      <td>Men's t-shirt KILPI AREC-M</td>\n",
       "      <td>Men&gt;Men Clothing&gt;T-Shirts &amp; Polo shirts&gt;Short ...</td>\n",
       "    </tr>\n",
       "    <tr>\n",
       "      <th>11689797</th>\n",
       "      <td>2064097</td>\n",
       "      <td>2019-08-21 07:57:53.86051 UTC</td>\n",
       "      <td>1</td>\n",
       "      <td>104807</td>\n",
       "      <td>Made Of Emotion Woman's Dress M417 Navy Blue</td>\n",
       "      <td>Women&gt;Women's Clothing&gt;Dresses&gt;Mini dress</td>\n",
       "    </tr>\n",
       "  </tbody>\n",
       "</table>\n",
       "</div>"
      ],
      "text/plain": [
       "          customer_id                       timestamp  event_type  product_id  \\\n",
       "11689793      1218557  2019-08-21 07:57:53.361388 UTC           1       26125   \n",
       "11689794       545607  2019-08-21 07:57:53.372592 UTC           1       54241   \n",
       "11689795       881435  2019-08-21 07:57:53.532665 UTC           1       54376   \n",
       "11689796       262051  2019-08-21 07:57:53.700887 UTC           1       27195   \n",
       "11689797      2064097   2019-08-21 07:57:53.86051 UTC           1      104807   \n",
       "\n",
       "                                                    title  \\\n",
       "11689793              Trendyol Multi-colored Plisse Skirt   \n",
       "11689794  Trendyol He's The Only Color We Block, Swimsuit   \n",
       "11689795              Women's jacket NORTHFINDER EMMALINE   \n",
       "11689796                       Men's t-shirt KILPI AREC-M   \n",
       "11689797     Made Of Emotion Woman's Dress M417 Navy Blue   \n",
       "\n",
       "                                              category_name  \n",
       "11689793          Women>Women's Clothing>Skirts>Midi skirts  \n",
       "11689794  Women>Women's Clothing>Swimmsuits & bikins>One...  \n",
       "11689795  Women>Women's Clothing>Jackets & Coats>Quilted...  \n",
       "11689796  Men>Men Clothing>T-Shirts & Polo shirts>Short ...  \n",
       "11689797          Women>Women's Clothing>Dresses>Mini dress  "
      ]
     },
     "execution_count": 156,
     "metadata": {},
     "output_type": "execute_result"
    }
   ],
   "source": [
    "df_test.head()"
   ]
  },
  {
   "cell_type": "code",
   "execution_count": 157,
   "metadata": {
    "scrolled": true
   },
   "outputs": [
    {
     "data": {
      "text/html": [
       "<div>\n",
       "<style scoped>\n",
       "    .dataframe tbody tr th:only-of-type {\n",
       "        vertical-align: middle;\n",
       "    }\n",
       "\n",
       "    .dataframe tbody tr th {\n",
       "        vertical-align: top;\n",
       "    }\n",
       "\n",
       "    .dataframe thead th {\n",
       "        text-align: right;\n",
       "    }\n",
       "</style>\n",
       "<table border=\"1\" class=\"dataframe\">\n",
       "  <thead>\n",
       "    <tr style=\"text-align: right;\">\n",
       "      <th></th>\n",
       "      <th>customer_id</th>\n",
       "      <th>timestamp</th>\n",
       "      <th>event_type</th>\n",
       "      <th>product_id</th>\n",
       "      <th>title</th>\n",
       "      <th>category_name</th>\n",
       "    </tr>\n",
       "  </thead>\n",
       "  <tbody>\n",
       "    <tr>\n",
       "      <th>0</th>\n",
       "      <td>279709</td>\n",
       "      <td>2019-07-01 00:00:01.101977 UTC</td>\n",
       "      <td>1</td>\n",
       "      <td>116557</td>\n",
       "      <td>Michael Kors Nappa Leather Racer Jacket</td>\n",
       "      <td>NaN</td>\n",
       "    </tr>\n",
       "    <tr>\n",
       "      <th>1</th>\n",
       "      <td>735927</td>\n",
       "      <td>2019-07-01 00:00:01.901589 UTC</td>\n",
       "      <td>1</td>\n",
       "      <td>20221</td>\n",
       "      <td>Puma Woven Shorts Girls</td>\n",
       "      <td>NaN</td>\n",
       "    </tr>\n",
       "    <tr>\n",
       "      <th>2</th>\n",
       "      <td>2166327</td>\n",
       "      <td>2019-07-01 00:00:08.954928 UTC</td>\n",
       "      <td>1</td>\n",
       "      <td>81561</td>\n",
       "      <td>Trendyol Multi-colored Flywheel Detailed Swimwear</td>\n",
       "      <td>NaN</td>\n",
       "    </tr>\n",
       "    <tr>\n",
       "      <th>3</th>\n",
       "      <td>735927</td>\n",
       "      <td>2019-07-01 00:00:09.721589 UTC</td>\n",
       "      <td>1</td>\n",
       "      <td>46573</td>\n",
       "      <td>Puma Woven Shorts Girls</td>\n",
       "      <td>NaN</td>\n",
       "    </tr>\n",
       "    <tr>\n",
       "      <th>4</th>\n",
       "      <td>1628326</td>\n",
       "      <td>2019-07-01 00:00:13.745257 UTC</td>\n",
       "      <td>1</td>\n",
       "      <td>88433</td>\n",
       "      <td>Women's dress ROXY NEW LEASEOFLIFE J KTDR</td>\n",
       "      <td>NaN</td>\n",
       "    </tr>\n",
       "  </tbody>\n",
       "</table>\n",
       "</div>"
      ],
      "text/plain": [
       "   customer_id                       timestamp  event_type  product_id  \\\n",
       "0       279709  2019-07-01 00:00:01.101977 UTC           1      116557   \n",
       "1       735927  2019-07-01 00:00:01.901589 UTC           1       20221   \n",
       "2      2166327  2019-07-01 00:00:08.954928 UTC           1       81561   \n",
       "3       735927  2019-07-01 00:00:09.721589 UTC           1       46573   \n",
       "4      1628326  2019-07-01 00:00:13.745257 UTC           1       88433   \n",
       "\n",
       "                                               title category_name  \n",
       "0            Michael Kors Nappa Leather Racer Jacket           NaN  \n",
       "1                            Puma Woven Shorts Girls           NaN  \n",
       "2  Trendyol Multi-colored Flywheel Detailed Swimwear           NaN  \n",
       "3                            Puma Woven Shorts Girls           NaN  \n",
       "4          Women's dress ROXY NEW LEASEOFLIFE J KTDR           NaN  "
      ]
     },
     "execution_count": 157,
     "metadata": {},
     "output_type": "execute_result"
    }
   ],
   "source": [
    "df_train.head()"
   ]
  },
  {
   "cell_type": "code",
   "execution_count": null,
   "metadata": {},
   "outputs": [],
   "source": []
  },
  {
   "cell_type": "code",
   "execution_count": 158,
   "metadata": {},
   "outputs": [
    {
     "data": {
      "text/html": [
       "<div>\n",
       "<style scoped>\n",
       "    .dataframe tbody tr th:only-of-type {\n",
       "        vertical-align: middle;\n",
       "    }\n",
       "\n",
       "    .dataframe tbody tr th {\n",
       "        vertical-align: top;\n",
       "    }\n",
       "\n",
       "    .dataframe thead th {\n",
       "        text-align: right;\n",
       "    }\n",
       "</style>\n",
       "<table border=\"1\" class=\"dataframe\">\n",
       "  <thead>\n",
       "    <tr style=\"text-align: right;\">\n",
       "      <th></th>\n",
       "      <th>customer_id</th>\n",
       "      <th>timestamp</th>\n",
       "      <th>event_type</th>\n",
       "      <th>product_id</th>\n",
       "      <th>title</th>\n",
       "      <th>category_name</th>\n",
       "    </tr>\n",
       "  </thead>\n",
       "  <tbody>\n",
       "    <tr>\n",
       "      <th>0</th>\n",
       "      <td>279709</td>\n",
       "      <td>2019-07-01 00:00:01.101977 UTC</td>\n",
       "      <td>1</td>\n",
       "      <td>116557</td>\n",
       "      <td>Michael Kors Nappa Leather Racer Jacket</td>\n",
       "      <td>NaN</td>\n",
       "    </tr>\n",
       "    <tr>\n",
       "      <th>1</th>\n",
       "      <td>735927</td>\n",
       "      <td>2019-07-01 00:00:01.901589 UTC</td>\n",
       "      <td>1</td>\n",
       "      <td>20221</td>\n",
       "      <td>Puma Woven Shorts Girls</td>\n",
       "      <td>NaN</td>\n",
       "    </tr>\n",
       "    <tr>\n",
       "      <th>2</th>\n",
       "      <td>2166327</td>\n",
       "      <td>2019-07-01 00:00:08.954928 UTC</td>\n",
       "      <td>1</td>\n",
       "      <td>81561</td>\n",
       "      <td>Trendyol Multi-colored Flywheel Detailed Swimwear</td>\n",
       "      <td>NaN</td>\n",
       "    </tr>\n",
       "    <tr>\n",
       "      <th>3</th>\n",
       "      <td>735927</td>\n",
       "      <td>2019-07-01 00:00:09.721589 UTC</td>\n",
       "      <td>1</td>\n",
       "      <td>46573</td>\n",
       "      <td>Puma Woven Shorts Girls</td>\n",
       "      <td>NaN</td>\n",
       "    </tr>\n",
       "    <tr>\n",
       "      <th>4</th>\n",
       "      <td>1628326</td>\n",
       "      <td>2019-07-01 00:00:13.745257 UTC</td>\n",
       "      <td>1</td>\n",
       "      <td>88433</td>\n",
       "      <td>Women's dress ROXY NEW LEASEOFLIFE J KTDR</td>\n",
       "      <td>NaN</td>\n",
       "    </tr>\n",
       "    <tr>\n",
       "      <th>...</th>\n",
       "      <td>...</td>\n",
       "      <td>...</td>\n",
       "      <td>...</td>\n",
       "      <td>...</td>\n",
       "      <td>...</td>\n",
       "      <td>...</td>\n",
       "    </tr>\n",
       "    <tr>\n",
       "      <th>11689788</th>\n",
       "      <td>1026488</td>\n",
       "      <td>2019-08-21 07:57:52.709547 UTC</td>\n",
       "      <td>1</td>\n",
       "      <td>78066</td>\n",
       "      <td>Karrimor 3 in 1 Weathertite Jacket Ladies</td>\n",
       "      <td>Sports&gt;Outdoor&gt;Outdoor Clothing&gt;Women's Outdoo...</td>\n",
       "    </tr>\n",
       "    <tr>\n",
       "      <th>11689789</th>\n",
       "      <td>2096704</td>\n",
       "      <td>2019-08-21 07:57:52.718063 UTC</td>\n",
       "      <td>1</td>\n",
       "      <td>110596</td>\n",
       "      <td>Lee Cooper Jimin Juniors Trainers</td>\n",
       "      <td>Women&gt;Women's Footwear&gt;Sneakers&gt;Low sneakers</td>\n",
       "    </tr>\n",
       "    <tr>\n",
       "      <th>11689790</th>\n",
       "      <td>340302</td>\n",
       "      <td>2019-08-21 07:57:53.004127 UTC</td>\n",
       "      <td>1</td>\n",
       "      <td>93735</td>\n",
       "      <td>Trendyol Cinnamon Belted Dress</td>\n",
       "      <td>Women&gt;Women's Clothing&gt;Dresses&gt;Midi dress</td>\n",
       "    </tr>\n",
       "    <tr>\n",
       "      <th>11689791</th>\n",
       "      <td>132705</td>\n",
       "      <td>2019-08-21 07:57:53.080232 UTC</td>\n",
       "      <td>1</td>\n",
       "      <td>70957</td>\n",
       "      <td>Troll LADY'S JACKET</td>\n",
       "      <td>Women&gt;Women's Clothing&gt;Jackets &amp; Coats&gt;Quilted...</td>\n",
       "    </tr>\n",
       "    <tr>\n",
       "      <th>11689792</th>\n",
       "      <td>161403</td>\n",
       "      <td>2019-08-21 07:57:53.257471 UTC</td>\n",
       "      <td>1</td>\n",
       "      <td>83723</td>\n",
       "      <td>Lonsdale 2 Stripe Jogging Pants Mens</td>\n",
       "      <td>Men&gt;Men Clothing&gt;Tracksuit&gt;Tracksuit bottoms</td>\n",
       "    </tr>\n",
       "  </tbody>\n",
       "</table>\n",
       "<p>11842477 rows × 6 columns</p>\n",
       "</div>"
      ],
      "text/plain": [
       "          customer_id                       timestamp  event_type  product_id  \\\n",
       "0              279709  2019-07-01 00:00:01.101977 UTC           1      116557   \n",
       "1              735927  2019-07-01 00:00:01.901589 UTC           1       20221   \n",
       "2             2166327  2019-07-01 00:00:08.954928 UTC           1       81561   \n",
       "3              735927  2019-07-01 00:00:09.721589 UTC           1       46573   \n",
       "4             1628326  2019-07-01 00:00:13.745257 UTC           1       88433   \n",
       "...               ...                             ...         ...         ...   \n",
       "11689788      1026488  2019-08-21 07:57:52.709547 UTC           1       78066   \n",
       "11689789      2096704  2019-08-21 07:57:52.718063 UTC           1      110596   \n",
       "11689790       340302  2019-08-21 07:57:53.004127 UTC           1       93735   \n",
       "11689791       132705  2019-08-21 07:57:53.080232 UTC           1       70957   \n",
       "11689792       161403  2019-08-21 07:57:53.257471 UTC           1       83723   \n",
       "\n",
       "                                                      title  \\\n",
       "0                   Michael Kors Nappa Leather Racer Jacket   \n",
       "1                                   Puma Woven Shorts Girls   \n",
       "2         Trendyol Multi-colored Flywheel Detailed Swimwear   \n",
       "3                                   Puma Woven Shorts Girls   \n",
       "4                 Women's dress ROXY NEW LEASEOFLIFE J KTDR   \n",
       "...                                                     ...   \n",
       "11689788          Karrimor 3 in 1 Weathertite Jacket Ladies   \n",
       "11689789                  Lee Cooper Jimin Juniors Trainers   \n",
       "11689790                     Trendyol Cinnamon Belted Dress   \n",
       "11689791                                Troll LADY'S JACKET   \n",
       "11689792               Lonsdale 2 Stripe Jogging Pants Mens   \n",
       "\n",
       "                                              category_name  \n",
       "0                                                       NaN  \n",
       "1                                                       NaN  \n",
       "2                                                       NaN  \n",
       "3                                                       NaN  \n",
       "4                                                       NaN  \n",
       "...                                                     ...  \n",
       "11689788  Sports>Outdoor>Outdoor Clothing>Women's Outdoo...  \n",
       "11689789       Women>Women's Footwear>Sneakers>Low sneakers  \n",
       "11689790          Women>Women's Clothing>Dresses>Midi dress  \n",
       "11689791  Women>Women's Clothing>Jackets & Coats>Quilted...  \n",
       "11689792       Men>Men Clothing>Tracksuit>Tracksuit bottoms  \n",
       "\n",
       "[11842477 rows x 6 columns]"
      ]
     },
     "execution_count": 158,
     "metadata": {},
     "output_type": "execute_result"
    }
   ],
   "source": [
    "df_train"
   ]
  },
  {
   "cell_type": "markdown",
   "metadata": {},
   "source": [
    "# Tvorba sparse matrix"
   ]
  },
  {
   "cell_type": "markdown",
   "metadata": {},
   "source": [
    "robím podla tohoto\n",
    "https://towardsdatascience.com/prototyping-a-recommender-system-step-by-step-part-1-knn-item-based-collaborative-filtering-637969614ea"
   ]
  },
  {
   "cell_type": "markdown",
   "metadata": {},
   "source": [
    "Ktorú sparse_matrix použiť:\n",
    "https://cmdlinetips.com/2018/03/sparse-matrices-in-python-with-scipy/"
   ]
  },
  {
   "cell_type": "code",
   "execution_count": 159,
   "metadata": {},
   "outputs": [],
   "source": [
    "from scipy.sparse import coo_matrix"
   ]
  },
  {
   "cell_type": "code",
   "execution_count": 160,
   "metadata": {},
   "outputs": [],
   "source": [
    "# tvorba sparse matrix\n",
    "mat_coo = coo_matrix(\n",
    "    (\n",
    "        np.array(df_train['event_type']), \n",
    "        (\n",
    "            np.array(df_train['product_id']), \n",
    "            np.array(df_train['customer_id'])\n",
    "        )\n",
    "    )\n",
    ")"
   ]
  },
  {
   "cell_type": "code",
   "execution_count": 161,
   "metadata": {},
   "outputs": [],
   "source": [
    "mat_csr = mat_coo.tocsr(copy=False)"
   ]
  },
  {
   "cell_type": "code",
   "execution_count": 162,
   "metadata": {},
   "outputs": [
    {
     "data": {
      "text/plain": [
       "(123837, 2211386)"
      ]
     },
     "execution_count": 162,
     "metadata": {},
     "output_type": "execute_result"
    }
   ],
   "source": [
    "mat_csr.shape"
   ]
  },
  {
   "cell_type": "markdown",
   "metadata": {},
   "source": [
    "# Nájdenie najpopulárnejších produktov"
   ]
  },
  {
   "cell_type": "code",
   "execution_count": 163,
   "metadata": {},
   "outputs": [],
   "source": [
    "summed_event_type = df_train[['product_id', 'event_type']].groupby(['product_id']).sum().sort_values(by=['event_type'], ascending=False)"
   ]
  },
  {
   "cell_type": "markdown",
   "metadata": {},
   "source": [
    "# Odporúčanie"
   ]
  },
  {
   "cell_type": "code",
   "execution_count": 164,
   "metadata": {},
   "outputs": [],
   "source": [
    "import operator\n",
    "from sklearn.neighbors import NearestNeighbors"
   ]
  },
  {
   "cell_type": "code",
   "execution_count": 165,
   "metadata": {},
   "outputs": [
    {
     "data": {
      "text/plain": [
       "NearestNeighbors(algorithm='brute', leaf_size=30, metric='cosine',\n",
       "                 metric_params=None, n_jobs=-1, n_neighbors=20, p=2,\n",
       "                 radius=1.0)"
      ]
     },
     "execution_count": 165,
     "metadata": {},
     "output_type": "execute_result"
    }
   ],
   "source": [
    "# vytvorenie inštancie KNN\n",
    "model_knn = NearestNeighbors(metric='cosine', algorithm='brute', n_neighbors=20, n_jobs=-1)\n",
    "\n",
    "# natrénovanie na trénovacích dátach\n",
    "model_knn.fit(mat_csr)"
   ]
  },
  {
   "cell_type": "code",
   "execution_count": 166,
   "metadata": {},
   "outputs": [],
   "source": [
    "# funkcia, ktorá vráti odporúčania pre daného customera\n",
    "def recommend(model_knn, customer_id, n_recos): \n",
    "    customer_id_inversed = le_customer.inverse_transform([customer_id])\n",
    "    \n",
    "    # produkty, s ktorými interagoval customer v teste\n",
    "    interacted_products_test = list(dict.fromkeys(df_test[df_test['customer_id'] == customer_id]['product_id'].values))\n",
    "    \n",
    "    # 1. Nájdi všetky produkty, ktoré si zákazník pozrel/kúpil v train\n",
    "    interacted_products_train = list(dict.fromkeys(df_train[df_train['customer_id'] == customer_id]['product_id'].values))\n",
    "    \n",
    "    # 2. Ak nema ziadne produkty v train, tak daj generické odporúčania a skonči\n",
    "    if len(interacted_products_train) == 0:\n",
    "        most_popular_products = list(summed_event_type.head(n_recos).reset_index()['product_id'])\n",
    "        precision = calc_precision(\n",
    "            most_popular_products,\n",
    "            list(dict.fromkeys(interacted_products_test)) # odstrániť duplikáty z pola produktov pozretých v testovacej sade\n",
    "        )\n",
    "        return [], most_popular_products, precision\n",
    "\n",
    "        \n",
    "    # 3. Generovanie odporúčaní pomocou KNN\n",
    "    # n_recos+1, pretože vždy vráti aj seba\n",
    "    distances2D, indices2D = model_knn.kneighbors(mat_csr[interacted_products_train], n_neighbors=n_recos+1)\n",
    "    \n",
    "    \n",
    "    # 4. Vytvorenie mapy s najmenšími vzdialenostami pre každý produkt\n",
    "    index_distance_map = {}\n",
    "    for distances, indices in zip(distances2D, indices2D):\n",
    "        for distance, index in zip(distances[1:], indices[1:]): \n",
    "            if index in index_distance_map and index_distance_map[index] < distance:\n",
    "                continue\n",
    "            index_distance_map[index] = distance\n",
    "            \n",
    "\n",
    "    # 5. nájdi najlepších n (n_recos) výsledkov\n",
    "    indices = []\n",
    "    distances = []\n",
    "    for _ in range(n_recos):\n",
    "        index = min(index_distance_map.items(), key=operator.itemgetter(1))[0]\n",
    "        indices.append(index)\n",
    "        distances.append(index_distance_map[index])\n",
    "        del index_distance_map[index]\n",
    "    \n",
    "        \n",
    "    # 6. Výpočet precision\n",
    "    precision = calc_precision(\n",
    "        indices,\n",
    "        list(dict.fromkeys(interacted_products_test)) # odstrániť duplikáty z pola produktov pozretých v testovacej sade\n",
    "    )\n",
    "    \n",
    "    return distances, indices, precision"
   ]
  },
  {
   "cell_type": "markdown",
   "metadata": {},
   "source": [
    "# Metriky"
   ]
  },
  {
   "cell_type": "code",
   "execution_count": 167,
   "metadata": {},
   "outputs": [],
   "source": [
    "def calc_precision(predicted_item_ids, future_touched_item_ids):\n",
    "    tp = list(intersection(predicted_item_ids, future_touched_item_ids))\n",
    "    return (len(tp) / min(len(predicted_item_ids), len(future_touched_item_ids)))\n",
    "\n",
    "\n",
    "def precision_at_k(r, k):\n",
    "    \"\"\"Score is precision @ k\n",
    "    Relevance is binary (nonzero is relevant).\n",
    "    >>> r = [0, 0, 1]\n",
    "    >>> precision_at_k(r, 1)\n",
    "    0.0\n",
    "    >>> precision_at_k(r, 2)\n",
    "    0.0\n",
    "    >>> precision_at_k(r, 3)\n",
    "    0.33333333333333331\n",
    "    >>> precision_at_k(r, 4)\n",
    "    Traceback (most recent call last):\n",
    "        File \"<stdin>\", line 1, in ?\n",
    "    ValueError: Relevance score length < k\n",
    "    Args:\n",
    "        r: Relevance scores (list or numpy) in rank order\n",
    "            (first element is the first item)\n",
    "    Returns:\n",
    "        Precision @ k\n",
    "    Raises:\n",
    "        ValueError: len(r) must be >= k\n",
    "    \"\"\"\n",
    "    assert k >= 1\n",
    "    r = np.asarray(r)[:k] != 0\n",
    "    if r.size != k:\n",
    "        raise ValueError('Relevance score length < k')\n",
    "    return np.mean(r)\n",
    "\n",
    "\n",
    "def average_precision(r):\n",
    "    \"\"\"Score is average precision (area under PR curve)\n",
    "    Relevance is binary (nonzero is relevant).\n",
    "    >>> r = [1, 1, 0, 1, 0, 1, 0, 0, 0, 1]\n",
    "    >>> delta_r = 1. / sum(r)\n",
    "    >>> sum([sum(r[:x + 1]) / (x + 1.) * delta_r for x, y in enumerate(r) if y])\n",
    "    0.7833333333333333\n",
    "    >>> average_precision(r)\n",
    "    0.78333333333333333\n",
    "    Args:\n",
    "        r: Relevance scores (list or numpy) in rank order\n",
    "            (first element is the first item)\n",
    "    Returns:\n",
    "        Average precision\n",
    "    \"\"\"\n",
    "    r = np.asarray(r) != 0\n",
    "    out = [precision_at_k(r, k + 1) for k in range(r.size) if r[k]]\n",
    "    if not out:\n",
    "        return 0.\n",
    "    return np.mean(out)\n",
    "\n",
    "\n",
    "def mean_average_precision(rs):\n",
    "    \"\"\"Score is mean average precision\n",
    "    Relevance is binary (nonzero is relevant).\n",
    "    >>> rs = [[1, 1, 0, 1, 0, 1, 0, 0, 0, 1]]\n",
    "    >>> mean_average_precision(rs)\n",
    "    0.78333333333333333\n",
    "    >>> rs = [[1, 1, 0, 1, 0, 1, 0, 0, 0, 1], [0]]\n",
    "    >>> mean_average_precision(rs)\n",
    "    0.39166666666666666\n",
    "    Args:\n",
    "        rs: Iterator of relevance scores (list or numpy) in rank order\n",
    "            (first element is the first item)\n",
    "    Returns:\n",
    "        Mean average precision\n",
    "    \"\"\"\n",
    "    return np.mean([average_precision(r) for r in rs])\n",
    "\n",
    "\n",
    "def ndcg_at_k(r, k, method=0):\n",
    "    \"\"\"Score is normalized discounted cumulative gain (ndcg)\n",
    "    Relevance is positive real values.  Can use binary\n",
    "    as the previous methods.\n",
    "    Example from\n",
    "    http://www.stanford.edu/class/cs276/handouts/EvaluationNew-handout-6-per.pdf\n",
    "    >>> r = [3, 2, 3, 0, 0, 1, 2, 2, 3, 0]\n",
    "    >>> ndcg_at_k(r, 1)\n",
    "    1.0\n",
    "    >>> r = [2, 1, 2, 0]\n",
    "    >>> ndcg_at_k(r, 4)\n",
    "    0.9203032077642922\n",
    "    >>> ndcg_at_k(r, 4, method=1)\n",
    "    0.96519546960144276\n",
    "    >>> ndcg_at_k([0], 1)\n",
    "    0.0\n",
    "    >>> ndcg_at_k([1], 2)\n",
    "    1.0\n",
    "    Args:\n",
    "        r: Relevance scores (list or numpy) in rank order\n",
    "            (first element is the first item)\n",
    "        k: Number of results to consider\n",
    "        method: If 0 then weights are [1.0, 1.0, 0.6309, 0.5, 0.4307, ...]\n",
    "                If 1 then weights are [1.0, 0.6309, 0.5, 0.4307, ...]\n",
    "    Returns:\n",
    "        Normalized discounted cumulative gain\n",
    "    \"\"\"\n",
    "    dcg_max = dcg_at_k(sorted(r, reverse=True), k, method)\n",
    "    if not dcg_max:\n",
    "        return 0.\n",
    "    return dcg_at_k(r, k, method) / dcg_max\n",
    "\n",
    "\n",
    "def intersection(lst1, lst2): \n",
    "    return list(set(lst1) & set(lst2))  "
   ]
  },
  {
   "cell_type": "code",
   "execution_count": 171,
   "metadata": {},
   "outputs": [
    {
     "name": "stdout",
     "output_type": "stream",
     "text": [
      "Total number of customers: 177177\n",
      "Evaluating for first 200 customers.\n",
      "Cust. 21.\t1572895\t20.0%\t[63415, 7521, 63388, 121145, 81520, 11362, 120503, 55936, 23920, 66112]\n",
      "Cust. 23.\t2097187\t33.33%\t[37252, 24618, 46937, 55611, 43477, 114711, 110913, 114671, 46853, 103183]\n",
      "Cust. 27.\t524332\t25.0%\t[14652, 87851, 119495, 12558, 19148, 110956, 31408, 38185, 41397, 96313]\n",
      "Cust. 35.\t2097219\t100.0%\t[7071, 61285, 81684, 107704, 66009, 92913, 15428, 24880, 19605, 2845]\n",
      "Cust. 39.\t1048649\t10.0%\t[67621, 112202, 58694, 27981, 8191, 78113, 100544, 100885, 87749, 103010]\n",
      "Cust. 48.\t524387\t50.0%\t[107239, 71663, 95239, 97619, 11024, 2465, 58303, 87984, 61605, 41895]\n",
      "Cust. 57.\t524400\t100.0%\t[113632, 72263, 2422, 40190, 93863, 25186, 110437, 97040, 8485, 20680]\n",
      "Cust. 71.\t1048722\t100.0%\t[93397, 32092, 76768, 88525, 14986, 99830, 7849, 102683, 43199, 78104]\n",
      "Cust. 76.\t2097304\t28.57%\t[3249, 35639, 61231, 109653, 17187, 37252, 15063, 37933, 101888, 55264]\n",
      "Cust. 95.\t180\t16.67%\t[19255, 35367, 101862, 71069, 96360, 89440, 45542, 86243, 32310, 18887]\n",
      "Cust. 97.\t1573047\t25.0%\t[77539, 118122, 116215, 93961, 25086, 57403, 83456, 82091, 64219, 13028]\n",
      "Cust. 98.\t1573054\t66.67%\t[62052, 112067, 14085, 31061, 83836, 118748, 66294, 43422, 115408, 29060]\n",
      "Cust. 108.\t524511\t20.0%\t[114025, 113838, 83089, 13499, 35427, 51588, 105548, 87812, 104624, 62944]\n",
      "Cust. 110.\t233\t14.29%\t[25276, 52757, 110172, 2328, 27309, 103190, 43899, 31572, 32440, 80325]\n",
      "Cust. 124.\t271\t25.0%\t[31013, 81041, 45512, 56197, 103936, 46682, 38570, 4513, 31887, 72645]\n",
      "Cust. 136.\t297\t14.29%\t[34642, 34601, 81725, 50572, 118903, 70896, 20891, 98211, 74831, 43780]\n",
      "Cust. 143.\t1048890\t40.0%\t[14132, 58483, 96761, 102502, 38988, 123268, 123, 66984, 1030, 123130]\n",
      "Cust. 157.\t1573208\t33.33%\t[35370, 12139, 66997, 11333, 19, 98056, 118107, 78398, 18809, 102582]\n",
      "Cust. 162.\t2097505\t66.67%\t[20349, 72893, 106487, 45172, 30237, 55914, 43721, 110080, 10841, 91165]\n",
      "Cust. 169.\t524653\t20.0%\t[30538, 75575, 115292, 116511, 40785, 53331, 55846, 52305, 57766, 91249]\n",
      "Cust. 171.\t1573231\t100.0%\t[24238, 20068, 11040, 103484, 36501, 97386, 100460, 114494, 24239, 97035]\n",
      "Cust. 172.\t2097521\t20.0%\t[18116, 34449, 56512, 83912, 24628, 89874, 59166, 108471, 117178, 97832]\n",
      "Cust. 183.\t1573260\t50.0%\t[72202, 31321, 107034, 115650, 4387, 28282, 47177, 52591, 90839, 57124]\n",
      "Cust. 191.\t524708\t20.0%\t[3075, 73575, 4132, 78652, 62934, 35413, 68222, 7575, 22087, 21621]\n",
      "Cust. 193.\t2097574\t66.67%\t[6903, 95017, 7472, 50503, 92740, 59293, 8952, 83367, 9716, 74740]\n",
      "Overall precision is 0.053273809523809515\n",
      "Precision@k:\t\t0.125\n",
      "Mean average precision:\t0.11580787507707528\n"
     ]
    },
    {
     "ename": "NameError",
     "evalue": "name 'dcg_at_k' is not defined",
     "output_type": "error",
     "traceback": [
      "\u001b[0;31m---------------------------------------------------------------------------\u001b[0m",
      "\u001b[0;31mNameError\u001b[0m                                 Traceback (most recent call last)",
      "\u001b[0;32m<ipython-input-171-022a5e740560>\u001b[0m in \u001b[0;36m<module>\u001b[0;34m\u001b[0m\n\u001b[1;32m     38\u001b[0m \u001b[0mprint\u001b[0m\u001b[0;34m(\u001b[0m\u001b[0;34mf'Precision@k:\\t\\t{precision_at_k(precisions, evaluate_for)}'\u001b[0m\u001b[0;34m)\u001b[0m\u001b[0;34m\u001b[0m\u001b[0m\n\u001b[1;32m     39\u001b[0m \u001b[0mprint\u001b[0m\u001b[0;34m(\u001b[0m\u001b[0;34mf'Mean average precision:\\t{mean_average_precision([precisions])}'\u001b[0m\u001b[0;34m)\u001b[0m\u001b[0;34m\u001b[0m\u001b[0m\n\u001b[0;32m---> 40\u001b[0;31m \u001b[0mprint\u001b[0m\u001b[0;34m(\u001b[0m\u001b[0;34mf'Ndcg:\\t\\t{ndcg_at_k(precisions, evaluate_for)}'\u001b[0m\u001b[0;34m)\u001b[0m\u001b[0;34m\u001b[0m\u001b[0m\n\u001b[0m",
      "\u001b[0;32m<ipython-input-167-f65a3039ec81>\u001b[0m in \u001b[0;36mndcg_at_k\u001b[0;34m(r, k, method)\u001b[0m\n\u001b[1;32m    100\u001b[0m         \u001b[0mNormalized\u001b[0m \u001b[0mdiscounted\u001b[0m \u001b[0mcumulative\u001b[0m \u001b[0mgain\u001b[0m\u001b[0;34m\u001b[0m\u001b[0m\n\u001b[1;32m    101\u001b[0m     \"\"\"\n\u001b[0;32m--> 102\u001b[0;31m     \u001b[0mdcg_max\u001b[0m \u001b[0;34m=\u001b[0m \u001b[0mdcg_at_k\u001b[0m\u001b[0;34m(\u001b[0m\u001b[0msorted\u001b[0m\u001b[0;34m(\u001b[0m\u001b[0mr\u001b[0m\u001b[0;34m,\u001b[0m \u001b[0mreverse\u001b[0m\u001b[0;34m=\u001b[0m\u001b[0;32mTrue\u001b[0m\u001b[0;34m)\u001b[0m\u001b[0;34m,\u001b[0m \u001b[0mk\u001b[0m\u001b[0;34m,\u001b[0m \u001b[0mmethod\u001b[0m\u001b[0;34m)\u001b[0m\u001b[0;34m\u001b[0m\u001b[0m\n\u001b[0m\u001b[1;32m    103\u001b[0m     \u001b[0;32mif\u001b[0m \u001b[0;32mnot\u001b[0m \u001b[0mdcg_max\u001b[0m\u001b[0;34m:\u001b[0m\u001b[0;34m\u001b[0m\u001b[0m\n\u001b[1;32m    104\u001b[0m         \u001b[0;32mreturn\u001b[0m \u001b[0;36m0.\u001b[0m\u001b[0;34m\u001b[0m\u001b[0m\n",
      "\u001b[0;31mNameError\u001b[0m: name 'dcg_at_k' is not defined"
     ]
    }
   ],
   "source": [
    "# Náhodný výber customera z testovacej množiny\n",
    "import random\n",
    "random_customer = random.choice(df_test['customer_id'].values)\n",
    "\n",
    "# všetci customeri z trénovacej množiny\n",
    "customers_train = list(dict.fromkeys(df_train['customer_id'].values))\n",
    "# všetci customeri z testovacej množiny\n",
    "customers_test = list(dict.fromkeys(df_test['customer_id'].values))\n",
    "# prienik test a train customerov\n",
    "customers = intersection(customers_train, customers_test)\n",
    "\n",
    "evaluate_for = 200\n",
    "\n",
    "# Customeri s vysokou presnostou\n",
    "# 1798323 80% !\n",
    "# 1285013 70% !\n",
    "\n",
    "# zober náhodných n\n",
    "random_n_customers = random.sample(customers, evaluate_for)\n",
    "\n",
    "overall_precision = 0\n",
    "print(f'Total number of customers: {len(customers)}')\n",
    "print(f'Evaluating for first {evaluate_for} customers.')\n",
    "\n",
    "precisions = []\n",
    "for idx in range(evaluate_for):\n",
    "    distances, indices, precision = recommend(model_knn, customers[idx], 10)\n",
    "    \n",
    "    overall_precision = overall_precision + precision\n",
    "    \n",
    "    precisions.append(precision)\n",
    "    \n",
    "    if precision > 0:\n",
    "        print(f'Cust. {idx + 1}.\\t{customers[idx]}\\t{round(precision * 100, 2)}%\\t{indices}')\n",
    "        \n",
    "print(f'Overall precision is {overall_precision / evaluate_for}')\n",
    "\n",
    "print(f'Precision@k:\\t\\t{precision_at_k(precisions, evaluate_for)}')\n",
    "print(f'Mean average precision:\\t{mean_average_precision([precisions])}')\n",
    "# TODO: fix\n",
    "print(f'Ndcg:\\t\\t{ndcg_at_k(precisions, evaluate_for)}')"
   ]
  },
  {
   "cell_type": "code",
   "execution_count": null,
   "metadata": {},
   "outputs": [],
   "source": [
    "df_train"
   ]
  },
  {
   "cell_type": "code",
   "execution_count": null,
   "metadata": {},
   "outputs": [],
   "source": [
    "recommend(model_knn, 1798323, 10)"
   ]
  },
  {
   "cell_type": "code",
   "execution_count": null,
   "metadata": {},
   "outputs": [],
   "source": []
  }
 ],
 "metadata": {
  "kernelspec": {
   "display_name": "Python 3",
   "language": "python",
   "name": "python3"
  },
  "language_info": {
   "codemirror_mode": {
    "name": "ipython",
    "version": 3
   },
   "file_extension": ".py",
   "mimetype": "text/x-python",
   "name": "python",
   "nbconvert_exporter": "python",
   "pygments_lexer": "ipython3",
   "version": "3.7.0"
  }
 },
 "nbformat": 4,
 "nbformat_minor": 2
}
