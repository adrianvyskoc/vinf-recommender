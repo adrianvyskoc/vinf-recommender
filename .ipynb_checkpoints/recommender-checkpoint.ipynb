{
 "cells": [
  {
   "cell_type": "code",
   "execution_count": 1,
   "metadata": {},
   "outputs": [],
   "source": [
    "import pandas as pd\n",
    "import numpy as np\n",
    "import gc"
   ]
  },
  {
   "cell_type": "code",
   "execution_count": 2,
   "metadata": {},
   "outputs": [
    {
     "name": "stderr",
     "output_type": "stream",
     "text": [
      "/usr/local/lib/python3.7/site-packages/IPython/core/interactiveshell.py:3058: DtypeWarning: Columns (5) have mixed types. Specify dtype option on import or set low_memory=False.\n",
      "  interactivity=interactivity, compiler=compiler, result=result)\n"
     ]
    }
   ],
   "source": [
    "df_events = pd.read_csv('./vi_data/events_train.csv')\n",
    "df_purchases = pd.read_csv('./vi_data/purchases_train.csv')"
   ]
  },
  {
   "cell_type": "markdown",
   "metadata": {},
   "source": [
    "# Nápady"
   ]
  },
  {
   "cell_type": "markdown",
   "metadata": {},
   "source": [
    "https://heartbeat.fritz.ai/recommender-systems-with-python-part-i-content-based-filtering-5df4940bd831\n",
    "https://towardsdatascience.com/prototyping-a-recommender-system-step-by-step-part-1-knn-item-based-collaborative-filtering-637969614ea\n",
    "https://www.youtube.com/watch?v=Ty3Ui_mQtxY"
   ]
  },
  {
   "cell_type": "markdown",
   "metadata": {},
   "source": [
    "# Prehľad dát"
   ]
  },
  {
   "cell_type": "code",
   "execution_count": 3,
   "metadata": {},
   "outputs": [
    {
     "data": {
      "text/html": [
       "<div>\n",
       "<style scoped>\n",
       "    .dataframe tbody tr th:only-of-type {\n",
       "        vertical-align: middle;\n",
       "    }\n",
       "\n",
       "    .dataframe tbody tr th {\n",
       "        vertical-align: top;\n",
       "    }\n",
       "\n",
       "    .dataframe thead th {\n",
       "        text-align: right;\n",
       "    }\n",
       "</style>\n",
       "<table border=\"1\" class=\"dataframe\">\n",
       "  <thead>\n",
       "    <tr style=\"text-align: right;\">\n",
       "      <th></th>\n",
       "      <th>customer_id</th>\n",
       "      <th>timestamp</th>\n",
       "      <th>event_type</th>\n",
       "      <th>product_id</th>\n",
       "      <th>title</th>\n",
       "      <th>category_name</th>\n",
       "      <th>price</th>\n",
       "    </tr>\n",
       "  </thead>\n",
       "  <tbody>\n",
       "    <tr>\n",
       "      <th>0</th>\n",
       "      <td>204685f9-00f0-4a36-bab1-e0b74673c3b1</td>\n",
       "      <td>2019-07-01 00:00:01.101977 UTC</td>\n",
       "      <td>view_item</td>\n",
       "      <td>f130c542-d793-41d0-88f6-d1c52b4fe8f0</td>\n",
       "      <td>Michael Kors Nappa Leather Racer Jacket</td>\n",
       "      <td>NaN</td>\n",
       "      <td>747.49</td>\n",
       "    </tr>\n",
       "    <tr>\n",
       "      <th>1</th>\n",
       "      <td>552445a5-f41d-4b25-b479-4e776d9bee61</td>\n",
       "      <td>2019-07-01 00:00:01.901589 UTC</td>\n",
       "      <td>view_item</td>\n",
       "      <td>29db8f57-49bd-4108-a0bb-0d245278e999</td>\n",
       "      <td>Puma Woven Shorts Girls</td>\n",
       "      <td>NaN</td>\n",
       "      <td>11.92</td>\n",
       "    </tr>\n",
       "    <tr>\n",
       "      <th>2</th>\n",
       "      <td>fac01f48-a03a-41f2-acd5-b5f4e407d9c2</td>\n",
       "      <td>2019-07-01 00:00:08.954928 UTC</td>\n",
       "      <td>view_item</td>\n",
       "      <td>a90bddc4-8eb7-4c99-aa4f-2f2377c246a2</td>\n",
       "      <td>Trendyol Multi-colored Flywheel Detailed Swimwear</td>\n",
       "      <td>NaN</td>\n",
       "      <td>23.85</td>\n",
       "    </tr>\n",
       "    <tr>\n",
       "      <th>3</th>\n",
       "      <td>552445a5-f41d-4b25-b479-4e776d9bee61</td>\n",
       "      <td>2019-07-01 00:00:09.721589 UTC</td>\n",
       "      <td>view_item</td>\n",
       "      <td>600268e1-a2ba-4b1b-ab57-58c577412af0</td>\n",
       "      <td>Puma Woven Shorts Girls</td>\n",
       "      <td>NaN</td>\n",
       "      <td>11.92</td>\n",
       "    </tr>\n",
       "    <tr>\n",
       "      <th>4</th>\n",
       "      <td>bc59a341-040f-41ea-8f33-cc4a02c2d85d</td>\n",
       "      <td>2019-07-01 00:00:13.745257 UTC</td>\n",
       "      <td>view_item</td>\n",
       "      <td>b74e0b38-1efe-4d86-9718-952cc2580212</td>\n",
       "      <td>Women's dress ROXY NEW LEASEOFLIFE J KTDR</td>\n",
       "      <td>NaN</td>\n",
       "      <td>40.00</td>\n",
       "    </tr>\n",
       "  </tbody>\n",
       "</table>\n",
       "</div>"
      ],
      "text/plain": [
       "                            customer_id                       timestamp  \\\n",
       "0  204685f9-00f0-4a36-bab1-e0b74673c3b1  2019-07-01 00:00:01.101977 UTC   \n",
       "1  552445a5-f41d-4b25-b479-4e776d9bee61  2019-07-01 00:00:01.901589 UTC   \n",
       "2  fac01f48-a03a-41f2-acd5-b5f4e407d9c2  2019-07-01 00:00:08.954928 UTC   \n",
       "3  552445a5-f41d-4b25-b479-4e776d9bee61  2019-07-01 00:00:09.721589 UTC   \n",
       "4  bc59a341-040f-41ea-8f33-cc4a02c2d85d  2019-07-01 00:00:13.745257 UTC   \n",
       "\n",
       "  event_type                            product_id  \\\n",
       "0  view_item  f130c542-d793-41d0-88f6-d1c52b4fe8f0   \n",
       "1  view_item  29db8f57-49bd-4108-a0bb-0d245278e999   \n",
       "2  view_item  a90bddc4-8eb7-4c99-aa4f-2f2377c246a2   \n",
       "3  view_item  600268e1-a2ba-4b1b-ab57-58c577412af0   \n",
       "4  view_item  b74e0b38-1efe-4d86-9718-952cc2580212   \n",
       "\n",
       "                                               title category_name   price  \n",
       "0            Michael Kors Nappa Leather Racer Jacket           NaN  747.49  \n",
       "1                            Puma Woven Shorts Girls           NaN   11.92  \n",
       "2  Trendyol Multi-colored Flywheel Detailed Swimwear           NaN   23.85  \n",
       "3                            Puma Woven Shorts Girls           NaN   11.92  \n",
       "4          Women's dress ROXY NEW LEASEOFLIFE J KTDR           NaN   40.00  "
      ]
     },
     "execution_count": 3,
     "metadata": {},
     "output_type": "execute_result"
    }
   ],
   "source": [
    "df_events.head()"
   ]
  },
  {
   "cell_type": "code",
   "execution_count": 4,
   "metadata": {},
   "outputs": [
    {
     "data": {
      "text/html": [
       "<div>\n",
       "<style scoped>\n",
       "    .dataframe tbody tr th:only-of-type {\n",
       "        vertical-align: middle;\n",
       "    }\n",
       "\n",
       "    .dataframe tbody tr th {\n",
       "        vertical-align: top;\n",
       "    }\n",
       "\n",
       "    .dataframe thead th {\n",
       "        text-align: right;\n",
       "    }\n",
       "</style>\n",
       "<table border=\"1\" class=\"dataframe\">\n",
       "  <thead>\n",
       "    <tr style=\"text-align: right;\">\n",
       "      <th></th>\n",
       "      <th>customer_id</th>\n",
       "      <th>timestamp</th>\n",
       "      <th>event_type</th>\n",
       "      <th>product_id</th>\n",
       "      <th>title</th>\n",
       "      <th>category_name</th>\n",
       "      <th>price</th>\n",
       "    </tr>\n",
       "  </thead>\n",
       "  <tbody>\n",
       "    <tr>\n",
       "      <th>0</th>\n",
       "      <td>0d1b7397-7d3c-44c0-9efc-d38bf197828b</td>\n",
       "      <td>2019-07-01 00:05:54.308966 UTC</td>\n",
       "      <td>purchase_item</td>\n",
       "      <td>954f9f2c-d3ca-4236-ac9a-4ea7bcf09305</td>\n",
       "      <td>Trendyol Leopard print Bikini bottom</td>\n",
       "      <td>NaN</td>\n",
       "      <td>NaN</td>\n",
       "    </tr>\n",
       "    <tr>\n",
       "      <th>1</th>\n",
       "      <td>81ccae7e-e496-4997-a289-4669bf53f33e</td>\n",
       "      <td>2019-07-01 00:20:03.404186 UTC</td>\n",
       "      <td>purchase_item</td>\n",
       "      <td>75b281e5-8a16-42cb-9ae0-9a98db7a2c40</td>\n",
       "      <td>No Fear Reflect Shorts Mens</td>\n",
       "      <td>NaN</td>\n",
       "      <td>NaN</td>\n",
       "    </tr>\n",
       "    <tr>\n",
       "      <th>2</th>\n",
       "      <td>50777c55-8dd6-4309-a5ca-26e66c8a8279</td>\n",
       "      <td>2019-07-01 00:34:35.989935 UTC</td>\n",
       "      <td>purchase_item</td>\n",
       "      <td>0112dec8-47f5-4c2c-9109-571e2dbb6345</td>\n",
       "      <td>Trendyol Multicolor camisole Blouse</td>\n",
       "      <td>NaN</td>\n",
       "      <td>NaN</td>\n",
       "    </tr>\n",
       "    <tr>\n",
       "      <th>3</th>\n",
       "      <td>50777c55-8dd6-4309-a5ca-26e66c8a8279</td>\n",
       "      <td>2019-07-01 00:34:35.991935 UTC</td>\n",
       "      <td>purchase_item</td>\n",
       "      <td>0fa25a2d-2aa1-4397-82f1-5a64f3b1272d</td>\n",
       "      <td>Trendyol White High Waist Skinny Jeans</td>\n",
       "      <td>NaN</td>\n",
       "      <td>NaN</td>\n",
       "    </tr>\n",
       "    <tr>\n",
       "      <th>4</th>\n",
       "      <td>647d269f-b18f-4558-8653-93369d862ec9</td>\n",
       "      <td>2019-07-01 00:52:53.083698 UTC</td>\n",
       "      <td>purchase_item</td>\n",
       "      <td>81c01216-55a9-4588-a722-bccf0bf35fd5</td>\n",
       "      <td>Firetrap Lazer Polo Shirt</td>\n",
       "      <td>NaN</td>\n",
       "      <td>NaN</td>\n",
       "    </tr>\n",
       "  </tbody>\n",
       "</table>\n",
       "</div>"
      ],
      "text/plain": [
       "                            customer_id                       timestamp  \\\n",
       "0  0d1b7397-7d3c-44c0-9efc-d38bf197828b  2019-07-01 00:05:54.308966 UTC   \n",
       "1  81ccae7e-e496-4997-a289-4669bf53f33e  2019-07-01 00:20:03.404186 UTC   \n",
       "2  50777c55-8dd6-4309-a5ca-26e66c8a8279  2019-07-01 00:34:35.989935 UTC   \n",
       "3  50777c55-8dd6-4309-a5ca-26e66c8a8279  2019-07-01 00:34:35.991935 UTC   \n",
       "4  647d269f-b18f-4558-8653-93369d862ec9  2019-07-01 00:52:53.083698 UTC   \n",
       "\n",
       "      event_type                            product_id  \\\n",
       "0  purchase_item  954f9f2c-d3ca-4236-ac9a-4ea7bcf09305   \n",
       "1  purchase_item  75b281e5-8a16-42cb-9ae0-9a98db7a2c40   \n",
       "2  purchase_item  0112dec8-47f5-4c2c-9109-571e2dbb6345   \n",
       "3  purchase_item  0fa25a2d-2aa1-4397-82f1-5a64f3b1272d   \n",
       "4  purchase_item  81c01216-55a9-4588-a722-bccf0bf35fd5   \n",
       "\n",
       "                                    title category_name  price  \n",
       "0    Trendyol Leopard print Bikini bottom           NaN    NaN  \n",
       "1             No Fear Reflect Shorts Mens           NaN    NaN  \n",
       "2     Trendyol Multicolor camisole Blouse           NaN    NaN  \n",
       "3  Trendyol White High Waist Skinny Jeans           NaN    NaN  \n",
       "4               Firetrap Lazer Polo Shirt           NaN    NaN  "
      ]
     },
     "execution_count": 4,
     "metadata": {},
     "output_type": "execute_result"
    }
   ],
   "source": [
    "df_purchases.head()"
   ]
  },
  {
   "cell_type": "markdown",
   "metadata": {},
   "source": [
    "## Informácie o dátach"
   ]
  },
  {
   "cell_type": "code",
   "execution_count": 5,
   "metadata": {},
   "outputs": [
    {
     "name": "stdout",
     "output_type": "stream",
     "text": [
      "<class 'pandas.core.frame.DataFrame'>\n",
      "RangeIndex: 14614385 entries, 0 to 14614384\n",
      "Data columns (total 7 columns):\n",
      "customer_id      object\n",
      "timestamp        object\n",
      "event_type       object\n",
      "product_id       object\n",
      "title            object\n",
      "category_name    object\n",
      "price            float64\n",
      "dtypes: float64(1), object(6)\n",
      "memory usage: 780.5+ MB\n"
     ]
    }
   ],
   "source": [
    "df_events.info()"
   ]
  },
  {
   "cell_type": "code",
   "execution_count": 6,
   "metadata": {},
   "outputs": [
    {
     "name": "stdout",
     "output_type": "stream",
     "text": [
      "<class 'pandas.core.frame.DataFrame'>\n",
      "RangeIndex: 188712 entries, 0 to 188711\n",
      "Data columns (total 7 columns):\n",
      "customer_id      188712 non-null object\n",
      "timestamp        188712 non-null object\n",
      "event_type       188712 non-null object\n",
      "product_id       188712 non-null object\n",
      "title            188684 non-null object\n",
      "category_name    143814 non-null object\n",
      "price            143826 non-null float64\n",
      "dtypes: float64(1), object(6)\n",
      "memory usage: 10.1+ MB\n"
     ]
    }
   ],
   "source": [
    "df_purchases.info()"
   ]
  },
  {
   "cell_type": "markdown",
   "metadata": {},
   "source": [
    "# Predspracovanie dát"
   ]
  },
  {
   "cell_type": "code",
   "execution_count": 7,
   "metadata": {},
   "outputs": [],
   "source": [
    "from sklearn import preprocessing"
   ]
  },
  {
   "cell_type": "code",
   "execution_count": 8,
   "metadata": {},
   "outputs": [
    {
     "data": {
      "text/plain": [
       "0"
      ]
     },
     "execution_count": 8,
     "metadata": {},
     "output_type": "execute_result"
    }
   ],
   "source": [
    "# spojenie dát\n",
    "df = pd.concat([df_events, df_purchases])\n",
    "\n",
    "del [[df_events, df_purchases]]\n",
    "gc.collect()"
   ]
  },
  {
   "cell_type": "code",
   "execution_count": 10,
   "metadata": {},
   "outputs": [],
   "source": [
    "df.sort_values(by=['timestamp'], inplace=True, ascending=True)"
   ]
  },
  {
   "cell_type": "code",
   "execution_count": 11,
   "metadata": {},
   "outputs": [],
   "source": [
    "df.drop(['price'], axis=1, inplace=True)"
   ]
  },
  {
   "cell_type": "code",
   "execution_count": 12,
   "metadata": {},
   "outputs": [],
   "source": [
    "df['event_type'] = df['event_type'].replace({ 'view_item': 1, 'purchase_item': 2 })"
   ]
  },
  {
   "cell_type": "markdown",
   "metadata": {},
   "source": [
    "## Zakódovanie idčiek"
   ]
  },
  {
   "cell_type": "code",
   "execution_count": 13,
   "metadata": {},
   "outputs": [],
   "source": [
    "from sklearn import preprocessing"
   ]
  },
  {
   "cell_type": "code",
   "execution_count": 14,
   "metadata": {},
   "outputs": [],
   "source": [
    "le_customer = preprocessing.LabelEncoder()\n",
    "le_product = preprocessing.LabelEncoder()\n",
    "\n",
    "df['customer_id'] = le_customer.fit_transform(df['customer_id'])\n",
    "df['product_id'] = le_product.fit_transform(df['product_id'])"
   ]
  },
  {
   "cell_type": "markdown",
   "metadata": {},
   "source": [
    "## Rozdelenie na trénovaciu a testovaciu zložku"
   ]
  },
  {
   "cell_type": "code",
   "execution_count": 15,
   "metadata": {},
   "outputs": [],
   "source": [
    "from sklearn.model_selection import train_test_split"
   ]
  },
  {
   "cell_type": "code",
   "execution_count": 16,
   "metadata": {},
   "outputs": [],
   "source": [
    "df_train, df_test = train_test_split(df, test_size=0.20, shuffle=False)"
   ]
  },
  {
   "cell_type": "code",
   "execution_count": 17,
   "metadata": {},
   "outputs": [
    {
     "name": "stdout",
     "output_type": "stream",
     "text": [
      "<class 'pandas.core.frame.DataFrame'>\n",
      "Int64Index: 11842477 entries, 0 to 11689792\n",
      "Data columns (total 6 columns):\n",
      "customer_id      int64\n",
      "timestamp        object\n",
      "event_type       int64\n",
      "product_id       int64\n",
      "title            object\n",
      "category_name    object\n",
      "dtypes: int64(3), object(3)\n",
      "memory usage: 632.5+ MB\n"
     ]
    }
   ],
   "source": [
    "df_train.info()"
   ]
  },
  {
   "cell_type": "code",
   "execution_count": 18,
   "metadata": {
    "scrolled": true
   },
   "outputs": [
    {
     "name": "stdout",
     "output_type": "stream",
     "text": [
      "<class 'pandas.core.frame.DataFrame'>\n",
      "Int64Index: 2960620 entries, 11689793 to 14614384\n",
      "Data columns (total 6 columns):\n",
      "customer_id      int64\n",
      "timestamp        object\n",
      "event_type       int64\n",
      "product_id       int64\n",
      "title            object\n",
      "category_name    object\n",
      "dtypes: int64(3), object(3)\n",
      "memory usage: 158.1+ MB\n"
     ]
    }
   ],
   "source": [
    "df_test.info()"
   ]
  },
  {
   "cell_type": "markdown",
   "metadata": {},
   "source": [
    "### Prehľad trénovacích a testovacích dát"
   ]
  },
  {
   "cell_type": "code",
   "execution_count": 20,
   "metadata": {
    "scrolled": true
   },
   "outputs": [
    {
     "data": {
      "text/html": [
       "<div>\n",
       "<style scoped>\n",
       "    .dataframe tbody tr th:only-of-type {\n",
       "        vertical-align: middle;\n",
       "    }\n",
       "\n",
       "    .dataframe tbody tr th {\n",
       "        vertical-align: top;\n",
       "    }\n",
       "\n",
       "    .dataframe thead th {\n",
       "        text-align: right;\n",
       "    }\n",
       "</style>\n",
       "<table border=\"1\" class=\"dataframe\">\n",
       "  <thead>\n",
       "    <tr style=\"text-align: right;\">\n",
       "      <th></th>\n",
       "      <th>customer_id</th>\n",
       "      <th>timestamp</th>\n",
       "      <th>event_type</th>\n",
       "      <th>product_id</th>\n",
       "      <th>title</th>\n",
       "      <th>category_name</th>\n",
       "    </tr>\n",
       "  </thead>\n",
       "  <tbody>\n",
       "    <tr>\n",
       "      <th>11689793</th>\n",
       "      <td>1218557</td>\n",
       "      <td>2019-08-21 07:57:53.361388 UTC</td>\n",
       "      <td>1</td>\n",
       "      <td>26125</td>\n",
       "      <td>Trendyol Multi-colored Plisse Skirt</td>\n",
       "      <td>Women&gt;Women's Clothing&gt;Skirts&gt;Midi skirts</td>\n",
       "    </tr>\n",
       "    <tr>\n",
       "      <th>11689794</th>\n",
       "      <td>545607</td>\n",
       "      <td>2019-08-21 07:57:53.372592 UTC</td>\n",
       "      <td>1</td>\n",
       "      <td>54241</td>\n",
       "      <td>Trendyol He's The Only Color We Block, Swimsuit</td>\n",
       "      <td>Women&gt;Women's Clothing&gt;Swimmsuits &amp; bikins&gt;One...</td>\n",
       "    </tr>\n",
       "    <tr>\n",
       "      <th>11689795</th>\n",
       "      <td>881435</td>\n",
       "      <td>2019-08-21 07:57:53.532665 UTC</td>\n",
       "      <td>1</td>\n",
       "      <td>54376</td>\n",
       "      <td>Women's jacket NORTHFINDER EMMALINE</td>\n",
       "      <td>Women&gt;Women's Clothing&gt;Jackets &amp; Coats&gt;Quilted...</td>\n",
       "    </tr>\n",
       "    <tr>\n",
       "      <th>11689796</th>\n",
       "      <td>262051</td>\n",
       "      <td>2019-08-21 07:57:53.700887 UTC</td>\n",
       "      <td>1</td>\n",
       "      <td>27195</td>\n",
       "      <td>Men's t-shirt KILPI AREC-M</td>\n",
       "      <td>Men&gt;Men Clothing&gt;T-Shirts &amp; Polo shirts&gt;Short ...</td>\n",
       "    </tr>\n",
       "    <tr>\n",
       "      <th>11689797</th>\n",
       "      <td>2064097</td>\n",
       "      <td>2019-08-21 07:57:53.86051 UTC</td>\n",
       "      <td>1</td>\n",
       "      <td>104807</td>\n",
       "      <td>Made Of Emotion Woman's Dress M417 Navy Blue</td>\n",
       "      <td>Women&gt;Women's Clothing&gt;Dresses&gt;Mini dress</td>\n",
       "    </tr>\n",
       "  </tbody>\n",
       "</table>\n",
       "</div>"
      ],
      "text/plain": [
       "          customer_id                       timestamp  event_type  product_id  \\\n",
       "11689793      1218557  2019-08-21 07:57:53.361388 UTC           1       26125   \n",
       "11689794       545607  2019-08-21 07:57:53.372592 UTC           1       54241   \n",
       "11689795       881435  2019-08-21 07:57:53.532665 UTC           1       54376   \n",
       "11689796       262051  2019-08-21 07:57:53.700887 UTC           1       27195   \n",
       "11689797      2064097   2019-08-21 07:57:53.86051 UTC           1      104807   \n",
       "\n",
       "                                                    title  \\\n",
       "11689793              Trendyol Multi-colored Plisse Skirt   \n",
       "11689794  Trendyol He's The Only Color We Block, Swimsuit   \n",
       "11689795              Women's jacket NORTHFINDER EMMALINE   \n",
       "11689796                       Men's t-shirt KILPI AREC-M   \n",
       "11689797     Made Of Emotion Woman's Dress M417 Navy Blue   \n",
       "\n",
       "                                              category_name  \n",
       "11689793          Women>Women's Clothing>Skirts>Midi skirts  \n",
       "11689794  Women>Women's Clothing>Swimmsuits & bikins>One...  \n",
       "11689795  Women>Women's Clothing>Jackets & Coats>Quilted...  \n",
       "11689796  Men>Men Clothing>T-Shirts & Polo shirts>Short ...  \n",
       "11689797          Women>Women's Clothing>Dresses>Mini dress  "
      ]
     },
     "execution_count": 20,
     "metadata": {},
     "output_type": "execute_result"
    }
   ],
   "source": [
    "df_test.head()"
   ]
  },
  {
   "cell_type": "code",
   "execution_count": 21,
   "metadata": {
    "scrolled": true
   },
   "outputs": [
    {
     "data": {
      "text/html": [
       "<div>\n",
       "<style scoped>\n",
       "    .dataframe tbody tr th:only-of-type {\n",
       "        vertical-align: middle;\n",
       "    }\n",
       "\n",
       "    .dataframe tbody tr th {\n",
       "        vertical-align: top;\n",
       "    }\n",
       "\n",
       "    .dataframe thead th {\n",
       "        text-align: right;\n",
       "    }\n",
       "</style>\n",
       "<table border=\"1\" class=\"dataframe\">\n",
       "  <thead>\n",
       "    <tr style=\"text-align: right;\">\n",
       "      <th></th>\n",
       "      <th>customer_id</th>\n",
       "      <th>timestamp</th>\n",
       "      <th>event_type</th>\n",
       "      <th>product_id</th>\n",
       "      <th>title</th>\n",
       "      <th>category_name</th>\n",
       "    </tr>\n",
       "  </thead>\n",
       "  <tbody>\n",
       "    <tr>\n",
       "      <th>0</th>\n",
       "      <td>279709</td>\n",
       "      <td>2019-07-01 00:00:01.101977 UTC</td>\n",
       "      <td>1</td>\n",
       "      <td>116557</td>\n",
       "      <td>Michael Kors Nappa Leather Racer Jacket</td>\n",
       "      <td>NaN</td>\n",
       "    </tr>\n",
       "    <tr>\n",
       "      <th>1</th>\n",
       "      <td>735927</td>\n",
       "      <td>2019-07-01 00:00:01.901589 UTC</td>\n",
       "      <td>1</td>\n",
       "      <td>20221</td>\n",
       "      <td>Puma Woven Shorts Girls</td>\n",
       "      <td>NaN</td>\n",
       "    </tr>\n",
       "    <tr>\n",
       "      <th>2</th>\n",
       "      <td>2166327</td>\n",
       "      <td>2019-07-01 00:00:08.954928 UTC</td>\n",
       "      <td>1</td>\n",
       "      <td>81561</td>\n",
       "      <td>Trendyol Multi-colored Flywheel Detailed Swimwear</td>\n",
       "      <td>NaN</td>\n",
       "    </tr>\n",
       "    <tr>\n",
       "      <th>3</th>\n",
       "      <td>735927</td>\n",
       "      <td>2019-07-01 00:00:09.721589 UTC</td>\n",
       "      <td>1</td>\n",
       "      <td>46573</td>\n",
       "      <td>Puma Woven Shorts Girls</td>\n",
       "      <td>NaN</td>\n",
       "    </tr>\n",
       "    <tr>\n",
       "      <th>4</th>\n",
       "      <td>1628326</td>\n",
       "      <td>2019-07-01 00:00:13.745257 UTC</td>\n",
       "      <td>1</td>\n",
       "      <td>88433</td>\n",
       "      <td>Women's dress ROXY NEW LEASEOFLIFE J KTDR</td>\n",
       "      <td>NaN</td>\n",
       "    </tr>\n",
       "  </tbody>\n",
       "</table>\n",
       "</div>"
      ],
      "text/plain": [
       "   customer_id                       timestamp  event_type  product_id  \\\n",
       "0       279709  2019-07-01 00:00:01.101977 UTC           1      116557   \n",
       "1       735927  2019-07-01 00:00:01.901589 UTC           1       20221   \n",
       "2      2166327  2019-07-01 00:00:08.954928 UTC           1       81561   \n",
       "3       735927  2019-07-01 00:00:09.721589 UTC           1       46573   \n",
       "4      1628326  2019-07-01 00:00:13.745257 UTC           1       88433   \n",
       "\n",
       "                                               title category_name  \n",
       "0            Michael Kors Nappa Leather Racer Jacket           NaN  \n",
       "1                            Puma Woven Shorts Girls           NaN  \n",
       "2  Trendyol Multi-colored Flywheel Detailed Swimwear           NaN  \n",
       "3                            Puma Woven Shorts Girls           NaN  \n",
       "4          Women's dress ROXY NEW LEASEOFLIFE J KTDR           NaN  "
      ]
     },
     "execution_count": 21,
     "metadata": {},
     "output_type": "execute_result"
    }
   ],
   "source": [
    "df_train.head()"
   ]
  },
  {
   "cell_type": "markdown",
   "metadata": {},
   "source": [
    "# Tvorba sparse matrix"
   ]
  },
  {
   "cell_type": "markdown",
   "metadata": {},
   "source": [
    "robím podla tohoto\n",
    "https://towardsdatascience.com/prototyping-a-recommender-system-step-by-step-part-1-knn-item-based-collaborative-filtering-637969614ea"
   ]
  },
  {
   "cell_type": "markdown",
   "metadata": {},
   "source": [
    "Ktorú sparse_matrix použiť:\n",
    "https://cmdlinetips.com/2018/03/sparse-matrices-in-python-with-scipy/"
   ]
  },
  {
   "cell_type": "code",
   "execution_count": 22,
   "metadata": {},
   "outputs": [],
   "source": [
    "from scipy.sparse import coo_matrix"
   ]
  },
  {
   "cell_type": "code",
   "execution_count": 23,
   "metadata": {},
   "outputs": [],
   "source": [
    "# tvorba sparse matrix\n",
    "mat_coo = coo_matrix(\n",
    "    (\n",
    "        np.array(df_train['event_type']), \n",
    "        (\n",
    "            np.array(df_train['product_id']), \n",
    "            np.array(df_train['customer_id'])\n",
    "        )\n",
    "    )\n",
    ")"
   ]
  },
  {
   "cell_type": "code",
   "execution_count": 24,
   "metadata": {},
   "outputs": [],
   "source": [
    "mat_csr = mat_coo.tocsr(copy=False)"
   ]
  },
  {
   "cell_type": "code",
   "execution_count": 25,
   "metadata": {},
   "outputs": [
    {
     "data": {
      "text/plain": [
       "(123837, 2211386)"
      ]
     },
     "execution_count": 25,
     "metadata": {},
     "output_type": "execute_result"
    }
   ],
   "source": [
    "mat_csr.shape"
   ]
  },
  {
   "cell_type": "markdown",
   "metadata": {},
   "source": [
    "# Odporúčanie"
   ]
  },
  {
   "cell_type": "code",
   "execution_count": 26,
   "metadata": {},
   "outputs": [],
   "source": [
    "import operator\n",
    "from sklearn.neighbors import NearestNeighbors"
   ]
  },
  {
   "cell_type": "code",
   "execution_count": 27,
   "metadata": {},
   "outputs": [
    {
     "data": {
      "text/plain": [
       "NearestNeighbors(algorithm='brute', leaf_size=30, metric='cosine',\n",
       "                 metric_params=None, n_jobs=-1, n_neighbors=20, p=2,\n",
       "                 radius=1.0)"
      ]
     },
     "execution_count": 27,
     "metadata": {},
     "output_type": "execute_result"
    }
   ],
   "source": [
    "# vytvorenie inštancie KNN\n",
    "model_knn = NearestNeighbors(metric='cosine', algorithm='brute', n_neighbors=20, n_jobs=-1)\n",
    "\n",
    "# natrénovanie na trénovacích dátach\n",
    "model_knn.fit(mat_csr)"
   ]
  },
  {
   "cell_type": "code",
   "execution_count": 60,
   "metadata": {},
   "outputs": [],
   "source": [
    "# funkcia, ktorá vráti odporúčania pre daného customera\n",
    "def recommend(model_knn, customer_id, n_recos): \n",
    "    customer_id_inversed = le_customer.inverse_transform([customer_id])\n",
    "    \n",
    "    # 1. Nájdi všetky produkty, ktoré si zákazník pozrel/kúpil v train\n",
    "    interacted_products_train = df_train[df_train['customer_id'] == customer_id]['product_id'].values\n",
    "    \n",
    "    # 2. Ak nema ziadne produkty v train, tak daj generické odporúčania a skonči\n",
    "    if len(interacted_products_train) == 0:\n",
    "        return [], [], 0\n",
    "        # TODO\n",
    "\n",
    "        \n",
    "    # 3. Generovanie odporúčaní pomocou KNN\n",
    "    # n_recos+1, pretože vždy vráti aj seba\n",
    "    distances2D, indices2D = model_knn.kneighbors(mat_csr[interacted_products_train], n_neighbors=n_recos+1)\n",
    "    \n",
    "    \n",
    "    # 4. Vytvorenie mapy s najmenšími vzdialenostami pre každý produkt\n",
    "    index_distance_map = {}\n",
    "    for distances, indices in zip(distances2D, indices2D):\n",
    "        for distance, index in zip(distances[1:], indices[1:]): \n",
    "            if index in index_distance_map and index_distance_map[index] < distance:\n",
    "                continue\n",
    "            index_distance_map[index] = distance\n",
    "            \n",
    "\n",
    "    # 5. nájdi najlepších n (n_recos) výsledkov\n",
    "    indices = []\n",
    "    distances = []\n",
    "    for _ in range(n_recos):\n",
    "        index = min(index_distance_map.items(), key=operator.itemgetter(1))[0]\n",
    "        indices.append(index)\n",
    "        distances.append(index_distance_map[index])\n",
    "        del index_distance_map[index]\n",
    "        \n",
    "\n",
    "    interacted_products_test = df_test[df_test['customer_id'] == customer_id]['product_id'].values\n",
    "        \n",
    "    # 6. Výpočet precision\n",
    "    precision = calc_precision(\n",
    "        indices,\n",
    "        list(dict.fromkeys(interacted_products_test)) # odstrániť duplikáty z pola produktov pozretých v testovacej sade\n",
    "    )\n",
    "    \n",
    "    return distances, indices, precision"
   ]
  },
  {
   "cell_type": "code",
   "execution_count": 64,
   "metadata": {},
   "outputs": [],
   "source": [
    "def calc_precision(predicted_item_ids, future_touched_item_ids):\n",
    "    tp = intersection(predicted_item_ids, future_touched_item_ids)\n",
    "    return (len(tp) / len(predicted_item_ids))\n",
    "\n",
    "\n",
    "def intersection(lst1, lst2): \n",
    "    lst3 = [value for value in lst1 if value in lst2] \n",
    "    return lst3  "
   ]
  },
  {
   "cell_type": "code",
   "execution_count": 72,
   "metadata": {},
   "outputs": [
    {
     "ename": "TypeError",
     "evalue": "object of type 'int' has no len()",
     "output_type": "error",
     "traceback": [
      "\u001b[0;31m---------------------------------------------------------------------------\u001b[0m",
      "\u001b[0;31mTypeError\u001b[0m                                 Traceback (most recent call last)",
      "\u001b[0;32m<ipython-input-72-511f32e3cc92>\u001b[0m in \u001b[0;36m<module>\u001b[0;34m\u001b[0m\n\u001b[1;32m      7\u001b[0m \u001b[0;34m\u001b[0m\u001b[0m\n\u001b[1;32m      8\u001b[0m \u001b[0moverall_precision\u001b[0m \u001b[0;34m=\u001b[0m \u001b[0;36m0\u001b[0m\u001b[0;34m\u001b[0m\u001b[0m\n\u001b[0;32m----> 9\u001b[0;31m \u001b[0mprint\u001b[0m\u001b[0;34m(\u001b[0m\u001b[0;34mf'Number of customers: {len(200)}'\u001b[0m\u001b[0;34m)\u001b[0m\u001b[0;34m\u001b[0m\u001b[0m\n\u001b[0m\u001b[1;32m     10\u001b[0m \u001b[0;32mfor\u001b[0m \u001b[0midx\u001b[0m \u001b[0;32min\u001b[0m \u001b[0mrange\u001b[0m\u001b[0;34m(\u001b[0m\u001b[0mlen\u001b[0m\u001b[0;34m(\u001b[0m\u001b[0mcustomers\u001b[0m\u001b[0;34m)\u001b[0m\u001b[0;34m)\u001b[0m\u001b[0;34m:\u001b[0m\u001b[0;34m\u001b[0m\u001b[0m\n\u001b[1;32m     11\u001b[0m     \u001b[0mdistances\u001b[0m\u001b[0;34m,\u001b[0m \u001b[0mindices\u001b[0m\u001b[0;34m,\u001b[0m \u001b[0mprecision\u001b[0m \u001b[0;34m=\u001b[0m \u001b[0mrecommend\u001b[0m\u001b[0;34m(\u001b[0m\u001b[0mmodel_knn\u001b[0m\u001b[0;34m,\u001b[0m \u001b[0mcustomers\u001b[0m\u001b[0;34m[\u001b[0m\u001b[0midx\u001b[0m\u001b[0;34m]\u001b[0m\u001b[0;34m,\u001b[0m \u001b[0;36m10\u001b[0m\u001b[0;34m)\u001b[0m\u001b[0;34m\u001b[0m\u001b[0m\n",
      "\u001b[0;31mTypeError\u001b[0m: object of type 'int' has no len()"
     ]
    }
   ],
   "source": [
    "# Náhodný výber customera z testovacej množiny\n",
    "import random\n",
    "random_customer = random.choice(df_test['customer_id'].values)\n",
    "\n",
    "# všetci customeri z testovacej množiny\n",
    "customers = df_test['customer_id'].values\n",
    "\n",
    "overall_precision = 0\n",
    "print(f'Number of customers: {len(customers)}')\n",
    "for idx in range(200):\n",
    "    distances, indices, precision = recommend(model_knn, customers[idx], 10)\n",
    "    \n",
    "    overall_precision = overall_precision + precision\n",
    "    \n",
    "    if precision > 0:\n",
    "        print(f'Cust. {idx + 1}.\\t{customers[idx]}\\t{precision * 100}%\\t{indices}')\n",
    "        \n",
    "print(f'Overall precision is {overall_precision / 200}')"
   ]
  },
  {
   "cell_type": "markdown",
   "metadata": {},
   "source": [
    "## Maticová faktorizácia"
   ]
  },
  {
   "cell_type": "markdown",
   "metadata": {},
   "source": [
    "https://github.com/SurhanZahid/Recommendation-System-Using-Matrix-Factorization/blob/master/Recommender%20System%20With%20Matrix%20Factorization%20.ipynb"
   ]
  },
  {
   "cell_type": "code",
   "execution_count": null,
   "metadata": {},
   "outputs": [],
   "source": [
    "mat_csr.toarray()"
   ]
  },
  {
   "cell_type": "code",
   "execution_count": null,
   "metadata": {},
   "outputs": [],
   "source": [
    "mat_csr.shape"
   ]
  },
  {
   "cell_type": "code",
   "execution_count": null,
   "metadata": {},
   "outputs": [],
   "source": [
    "import sklearn\n",
    "from sklearn.decomposition import TruncatedSVD\n",
    "\n",
    "SVD = TruncatedSVD(n_components=12, random_state=17)\n",
    "matrix = SVD.fit_transform(mat_csr)\n",
    "matrix.shape"
   ]
  },
  {
   "cell_type": "code",
   "execution_count": null,
   "metadata": {},
   "outputs": [],
   "source": [
    "#corr = np.corrcoef(matrix)\n",
    "corr.shape"
   ]
  },
  {
   "cell_type": "code",
   "execution_count": null,
   "metadata": {},
   "outputs": [],
   "source": []
  }
 ],
 "metadata": {
  "kernelspec": {
   "display_name": "Python 3",
   "language": "python",
   "name": "python3"
  },
  "language_info": {
   "codemirror_mode": {
    "name": "ipython",
    "version": 3
   },
   "file_extension": ".py",
   "mimetype": "text/x-python",
   "name": "python",
   "nbconvert_exporter": "python",
   "pygments_lexer": "ipython3",
   "version": "3.7.0"
  }
 },
 "nbformat": 4,
 "nbformat_minor": 2
}
