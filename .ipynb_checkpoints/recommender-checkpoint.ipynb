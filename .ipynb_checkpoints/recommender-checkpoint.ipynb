{
 "cells": [
  {
   "cell_type": "code",
   "execution_count": 1,
   "metadata": {},
   "outputs": [],
   "source": [
    "import pandas as pd\n",
    "import numpy as np\n",
    "import gc"
   ]
  },
  {
   "cell_type": "code",
   "execution_count": 2,
   "metadata": {},
   "outputs": [
    {
     "name": "stderr",
     "output_type": "stream",
     "text": [
      "/usr/local/lib/python3.7/site-packages/IPython/core/interactiveshell.py:3058: DtypeWarning: Columns (5) have mixed types. Specify dtype option on import or set low_memory=False.\n",
      "  interactivity=interactivity, compiler=compiler, result=result)\n"
     ]
    }
   ],
   "source": [
    "df_events = pd.read_csv('./vi_data/events_train.csv')\n",
    "df_purchases = pd.read_csv('./vi_data/purchases_train.csv')"
   ]
  },
  {
   "cell_type": "markdown",
   "metadata": {},
   "source": [
    "# Nápady"
   ]
  },
  {
   "cell_type": "markdown",
   "metadata": {},
   "source": [
    "https://heartbeat.fritz.ai/recommender-systems-with-python-part-i-content-based-filtering-5df4940bd831\n",
    "https://towardsdatascience.com/prototyping-a-recommender-system-step-by-step-part-1-knn-item-based-collaborative-filtering-637969614ea\n",
    "https://www.youtube.com/watch?v=Ty3Ui_mQtxY"
   ]
  },
  {
   "cell_type": "markdown",
   "metadata": {},
   "source": [
    "# Prehľad dát"
   ]
  },
  {
   "cell_type": "code",
   "execution_count": 3,
   "metadata": {},
   "outputs": [
    {
     "data": {
      "text/html": [
       "<div>\n",
       "<style scoped>\n",
       "    .dataframe tbody tr th:only-of-type {\n",
       "        vertical-align: middle;\n",
       "    }\n",
       "\n",
       "    .dataframe tbody tr th {\n",
       "        vertical-align: top;\n",
       "    }\n",
       "\n",
       "    .dataframe thead th {\n",
       "        text-align: right;\n",
       "    }\n",
       "</style>\n",
       "<table border=\"1\" class=\"dataframe\">\n",
       "  <thead>\n",
       "    <tr style=\"text-align: right;\">\n",
       "      <th></th>\n",
       "      <th>customer_id</th>\n",
       "      <th>timestamp</th>\n",
       "      <th>event_type</th>\n",
       "      <th>product_id</th>\n",
       "      <th>title</th>\n",
       "      <th>category_name</th>\n",
       "      <th>price</th>\n",
       "    </tr>\n",
       "  </thead>\n",
       "  <tbody>\n",
       "    <tr>\n",
       "      <th>0</th>\n",
       "      <td>204685f9-00f0-4a36-bab1-e0b74673c3b1</td>\n",
       "      <td>2019-07-01 00:00:01.101977 UTC</td>\n",
       "      <td>view_item</td>\n",
       "      <td>f130c542-d793-41d0-88f6-d1c52b4fe8f0</td>\n",
       "      <td>Michael Kors Nappa Leather Racer Jacket</td>\n",
       "      <td>NaN</td>\n",
       "      <td>747.49</td>\n",
       "    </tr>\n",
       "    <tr>\n",
       "      <th>1</th>\n",
       "      <td>552445a5-f41d-4b25-b479-4e776d9bee61</td>\n",
       "      <td>2019-07-01 00:00:01.901589 UTC</td>\n",
       "      <td>view_item</td>\n",
       "      <td>29db8f57-49bd-4108-a0bb-0d245278e999</td>\n",
       "      <td>Puma Woven Shorts Girls</td>\n",
       "      <td>NaN</td>\n",
       "      <td>11.92</td>\n",
       "    </tr>\n",
       "    <tr>\n",
       "      <th>2</th>\n",
       "      <td>fac01f48-a03a-41f2-acd5-b5f4e407d9c2</td>\n",
       "      <td>2019-07-01 00:00:08.954928 UTC</td>\n",
       "      <td>view_item</td>\n",
       "      <td>a90bddc4-8eb7-4c99-aa4f-2f2377c246a2</td>\n",
       "      <td>Trendyol Multi-colored Flywheel Detailed Swimwear</td>\n",
       "      <td>NaN</td>\n",
       "      <td>23.85</td>\n",
       "    </tr>\n",
       "    <tr>\n",
       "      <th>3</th>\n",
       "      <td>552445a5-f41d-4b25-b479-4e776d9bee61</td>\n",
       "      <td>2019-07-01 00:00:09.721589 UTC</td>\n",
       "      <td>view_item</td>\n",
       "      <td>600268e1-a2ba-4b1b-ab57-58c577412af0</td>\n",
       "      <td>Puma Woven Shorts Girls</td>\n",
       "      <td>NaN</td>\n",
       "      <td>11.92</td>\n",
       "    </tr>\n",
       "    <tr>\n",
       "      <th>4</th>\n",
       "      <td>bc59a341-040f-41ea-8f33-cc4a02c2d85d</td>\n",
       "      <td>2019-07-01 00:00:13.745257 UTC</td>\n",
       "      <td>view_item</td>\n",
       "      <td>b74e0b38-1efe-4d86-9718-952cc2580212</td>\n",
       "      <td>Women's dress ROXY NEW LEASEOFLIFE J KTDR</td>\n",
       "      <td>NaN</td>\n",
       "      <td>40.00</td>\n",
       "    </tr>\n",
       "  </tbody>\n",
       "</table>\n",
       "</div>"
      ],
      "text/plain": [
       "                            customer_id                       timestamp  \\\n",
       "0  204685f9-00f0-4a36-bab1-e0b74673c3b1  2019-07-01 00:00:01.101977 UTC   \n",
       "1  552445a5-f41d-4b25-b479-4e776d9bee61  2019-07-01 00:00:01.901589 UTC   \n",
       "2  fac01f48-a03a-41f2-acd5-b5f4e407d9c2  2019-07-01 00:00:08.954928 UTC   \n",
       "3  552445a5-f41d-4b25-b479-4e776d9bee61  2019-07-01 00:00:09.721589 UTC   \n",
       "4  bc59a341-040f-41ea-8f33-cc4a02c2d85d  2019-07-01 00:00:13.745257 UTC   \n",
       "\n",
       "  event_type                            product_id  \\\n",
       "0  view_item  f130c542-d793-41d0-88f6-d1c52b4fe8f0   \n",
       "1  view_item  29db8f57-49bd-4108-a0bb-0d245278e999   \n",
       "2  view_item  a90bddc4-8eb7-4c99-aa4f-2f2377c246a2   \n",
       "3  view_item  600268e1-a2ba-4b1b-ab57-58c577412af0   \n",
       "4  view_item  b74e0b38-1efe-4d86-9718-952cc2580212   \n",
       "\n",
       "                                               title category_name   price  \n",
       "0            Michael Kors Nappa Leather Racer Jacket           NaN  747.49  \n",
       "1                            Puma Woven Shorts Girls           NaN   11.92  \n",
       "2  Trendyol Multi-colored Flywheel Detailed Swimwear           NaN   23.85  \n",
       "3                            Puma Woven Shorts Girls           NaN   11.92  \n",
       "4          Women's dress ROXY NEW LEASEOFLIFE J KTDR           NaN   40.00  "
      ]
     },
     "execution_count": 3,
     "metadata": {},
     "output_type": "execute_result"
    }
   ],
   "source": [
    "df_events.head()"
   ]
  },
  {
   "cell_type": "code",
   "execution_count": 4,
   "metadata": {},
   "outputs": [
    {
     "data": {
      "text/html": [
       "<div>\n",
       "<style scoped>\n",
       "    .dataframe tbody tr th:only-of-type {\n",
       "        vertical-align: middle;\n",
       "    }\n",
       "\n",
       "    .dataframe tbody tr th {\n",
       "        vertical-align: top;\n",
       "    }\n",
       "\n",
       "    .dataframe thead th {\n",
       "        text-align: right;\n",
       "    }\n",
       "</style>\n",
       "<table border=\"1\" class=\"dataframe\">\n",
       "  <thead>\n",
       "    <tr style=\"text-align: right;\">\n",
       "      <th></th>\n",
       "      <th>customer_id</th>\n",
       "      <th>timestamp</th>\n",
       "      <th>event_type</th>\n",
       "      <th>product_id</th>\n",
       "      <th>title</th>\n",
       "      <th>category_name</th>\n",
       "      <th>price</th>\n",
       "    </tr>\n",
       "  </thead>\n",
       "  <tbody>\n",
       "    <tr>\n",
       "      <th>0</th>\n",
       "      <td>0d1b7397-7d3c-44c0-9efc-d38bf197828b</td>\n",
       "      <td>2019-07-01 00:05:54.308966 UTC</td>\n",
       "      <td>purchase_item</td>\n",
       "      <td>954f9f2c-d3ca-4236-ac9a-4ea7bcf09305</td>\n",
       "      <td>Trendyol Leopard print Bikini bottom</td>\n",
       "      <td>NaN</td>\n",
       "      <td>NaN</td>\n",
       "    </tr>\n",
       "    <tr>\n",
       "      <th>1</th>\n",
       "      <td>81ccae7e-e496-4997-a289-4669bf53f33e</td>\n",
       "      <td>2019-07-01 00:20:03.404186 UTC</td>\n",
       "      <td>purchase_item</td>\n",
       "      <td>75b281e5-8a16-42cb-9ae0-9a98db7a2c40</td>\n",
       "      <td>No Fear Reflect Shorts Mens</td>\n",
       "      <td>NaN</td>\n",
       "      <td>NaN</td>\n",
       "    </tr>\n",
       "    <tr>\n",
       "      <th>2</th>\n",
       "      <td>50777c55-8dd6-4309-a5ca-26e66c8a8279</td>\n",
       "      <td>2019-07-01 00:34:35.989935 UTC</td>\n",
       "      <td>purchase_item</td>\n",
       "      <td>0112dec8-47f5-4c2c-9109-571e2dbb6345</td>\n",
       "      <td>Trendyol Multicolor camisole Blouse</td>\n",
       "      <td>NaN</td>\n",
       "      <td>NaN</td>\n",
       "    </tr>\n",
       "    <tr>\n",
       "      <th>3</th>\n",
       "      <td>50777c55-8dd6-4309-a5ca-26e66c8a8279</td>\n",
       "      <td>2019-07-01 00:34:35.991935 UTC</td>\n",
       "      <td>purchase_item</td>\n",
       "      <td>0fa25a2d-2aa1-4397-82f1-5a64f3b1272d</td>\n",
       "      <td>Trendyol White High Waist Skinny Jeans</td>\n",
       "      <td>NaN</td>\n",
       "      <td>NaN</td>\n",
       "    </tr>\n",
       "    <tr>\n",
       "      <th>4</th>\n",
       "      <td>647d269f-b18f-4558-8653-93369d862ec9</td>\n",
       "      <td>2019-07-01 00:52:53.083698 UTC</td>\n",
       "      <td>purchase_item</td>\n",
       "      <td>81c01216-55a9-4588-a722-bccf0bf35fd5</td>\n",
       "      <td>Firetrap Lazer Polo Shirt</td>\n",
       "      <td>NaN</td>\n",
       "      <td>NaN</td>\n",
       "    </tr>\n",
       "  </tbody>\n",
       "</table>\n",
       "</div>"
      ],
      "text/plain": [
       "                            customer_id                       timestamp  \\\n",
       "0  0d1b7397-7d3c-44c0-9efc-d38bf197828b  2019-07-01 00:05:54.308966 UTC   \n",
       "1  81ccae7e-e496-4997-a289-4669bf53f33e  2019-07-01 00:20:03.404186 UTC   \n",
       "2  50777c55-8dd6-4309-a5ca-26e66c8a8279  2019-07-01 00:34:35.989935 UTC   \n",
       "3  50777c55-8dd6-4309-a5ca-26e66c8a8279  2019-07-01 00:34:35.991935 UTC   \n",
       "4  647d269f-b18f-4558-8653-93369d862ec9  2019-07-01 00:52:53.083698 UTC   \n",
       "\n",
       "      event_type                            product_id  \\\n",
       "0  purchase_item  954f9f2c-d3ca-4236-ac9a-4ea7bcf09305   \n",
       "1  purchase_item  75b281e5-8a16-42cb-9ae0-9a98db7a2c40   \n",
       "2  purchase_item  0112dec8-47f5-4c2c-9109-571e2dbb6345   \n",
       "3  purchase_item  0fa25a2d-2aa1-4397-82f1-5a64f3b1272d   \n",
       "4  purchase_item  81c01216-55a9-4588-a722-bccf0bf35fd5   \n",
       "\n",
       "                                    title category_name  price  \n",
       "0    Trendyol Leopard print Bikini bottom           NaN    NaN  \n",
       "1             No Fear Reflect Shorts Mens           NaN    NaN  \n",
       "2     Trendyol Multicolor camisole Blouse           NaN    NaN  \n",
       "3  Trendyol White High Waist Skinny Jeans           NaN    NaN  \n",
       "4               Firetrap Lazer Polo Shirt           NaN    NaN  "
      ]
     },
     "execution_count": 4,
     "metadata": {},
     "output_type": "execute_result"
    }
   ],
   "source": [
    "df_purchases.head()"
   ]
  },
  {
   "cell_type": "markdown",
   "metadata": {},
   "source": [
    "## Informácie o dátach"
   ]
  },
  {
   "cell_type": "code",
   "execution_count": 5,
   "metadata": {},
   "outputs": [
    {
     "name": "stdout",
     "output_type": "stream",
     "text": [
      "<class 'pandas.core.frame.DataFrame'>\n",
      "RangeIndex: 14614385 entries, 0 to 14614384\n",
      "Data columns (total 7 columns):\n",
      "customer_id      object\n",
      "timestamp        object\n",
      "event_type       object\n",
      "product_id       object\n",
      "title            object\n",
      "category_name    object\n",
      "price            float64\n",
      "dtypes: float64(1), object(6)\n",
      "memory usage: 780.5+ MB\n"
     ]
    }
   ],
   "source": [
    "df_events.info()"
   ]
  },
  {
   "cell_type": "code",
   "execution_count": 6,
   "metadata": {},
   "outputs": [
    {
     "name": "stdout",
     "output_type": "stream",
     "text": [
      "<class 'pandas.core.frame.DataFrame'>\n",
      "RangeIndex: 188712 entries, 0 to 188711\n",
      "Data columns (total 7 columns):\n",
      "customer_id      188712 non-null object\n",
      "timestamp        188712 non-null object\n",
      "event_type       188712 non-null object\n",
      "product_id       188712 non-null object\n",
      "title            188684 non-null object\n",
      "category_name    143814 non-null object\n",
      "price            143826 non-null float64\n",
      "dtypes: float64(1), object(6)\n",
      "memory usage: 10.1+ MB\n"
     ]
    }
   ],
   "source": [
    "df_purchases.info()"
   ]
  },
  {
   "cell_type": "markdown",
   "metadata": {},
   "source": [
    "# Predspracovanie dát"
   ]
  },
  {
   "cell_type": "code",
   "execution_count": 7,
   "metadata": {},
   "outputs": [],
   "source": [
    "from sklearn import preprocessing"
   ]
  },
  {
   "cell_type": "code",
   "execution_count": 8,
   "metadata": {},
   "outputs": [
    {
     "data": {
      "text/plain": [
       "0"
      ]
     },
     "execution_count": 8,
     "metadata": {},
     "output_type": "execute_result"
    }
   ],
   "source": [
    "# spojenie dát\n",
    "df = pd.concat([df_events, df_purchases])\n",
    "\n",
    "del [[df_events, df_purchases]]\n",
    "gc.collect()"
   ]
  },
  {
   "cell_type": "code",
   "execution_count": 9,
   "metadata": {},
   "outputs": [
    {
     "data": {
      "text/html": [
       "<div>\n",
       "<style scoped>\n",
       "    .dataframe tbody tr th:only-of-type {\n",
       "        vertical-align: middle;\n",
       "    }\n",
       "\n",
       "    .dataframe tbody tr th {\n",
       "        vertical-align: top;\n",
       "    }\n",
       "\n",
       "    .dataframe thead th {\n",
       "        text-align: right;\n",
       "    }\n",
       "</style>\n",
       "<table border=\"1\" class=\"dataframe\">\n",
       "  <thead>\n",
       "    <tr style=\"text-align: right;\">\n",
       "      <th></th>\n",
       "      <th>customer_id</th>\n",
       "      <th>timestamp</th>\n",
       "      <th>event_type</th>\n",
       "      <th>product_id</th>\n",
       "      <th>title</th>\n",
       "      <th>category_name</th>\n",
       "      <th>price</th>\n",
       "    </tr>\n",
       "  </thead>\n",
       "  <tbody>\n",
       "    <tr>\n",
       "      <th>0</th>\n",
       "      <td>204685f9-00f0-4a36-bab1-e0b74673c3b1</td>\n",
       "      <td>2019-07-01 00:00:01.101977 UTC</td>\n",
       "      <td>view_item</td>\n",
       "      <td>f130c542-d793-41d0-88f6-d1c52b4fe8f0</td>\n",
       "      <td>Michael Kors Nappa Leather Racer Jacket</td>\n",
       "      <td>NaN</td>\n",
       "      <td>747.49</td>\n",
       "    </tr>\n",
       "    <tr>\n",
       "      <th>1</th>\n",
       "      <td>552445a5-f41d-4b25-b479-4e776d9bee61</td>\n",
       "      <td>2019-07-01 00:00:01.901589 UTC</td>\n",
       "      <td>view_item</td>\n",
       "      <td>29db8f57-49bd-4108-a0bb-0d245278e999</td>\n",
       "      <td>Puma Woven Shorts Girls</td>\n",
       "      <td>NaN</td>\n",
       "      <td>11.92</td>\n",
       "    </tr>\n",
       "    <tr>\n",
       "      <th>2</th>\n",
       "      <td>fac01f48-a03a-41f2-acd5-b5f4e407d9c2</td>\n",
       "      <td>2019-07-01 00:00:08.954928 UTC</td>\n",
       "      <td>view_item</td>\n",
       "      <td>a90bddc4-8eb7-4c99-aa4f-2f2377c246a2</td>\n",
       "      <td>Trendyol Multi-colored Flywheel Detailed Swimwear</td>\n",
       "      <td>NaN</td>\n",
       "      <td>23.85</td>\n",
       "    </tr>\n",
       "    <tr>\n",
       "      <th>3</th>\n",
       "      <td>552445a5-f41d-4b25-b479-4e776d9bee61</td>\n",
       "      <td>2019-07-01 00:00:09.721589 UTC</td>\n",
       "      <td>view_item</td>\n",
       "      <td>600268e1-a2ba-4b1b-ab57-58c577412af0</td>\n",
       "      <td>Puma Woven Shorts Girls</td>\n",
       "      <td>NaN</td>\n",
       "      <td>11.92</td>\n",
       "    </tr>\n",
       "    <tr>\n",
       "      <th>4</th>\n",
       "      <td>bc59a341-040f-41ea-8f33-cc4a02c2d85d</td>\n",
       "      <td>2019-07-01 00:00:13.745257 UTC</td>\n",
       "      <td>view_item</td>\n",
       "      <td>b74e0b38-1efe-4d86-9718-952cc2580212</td>\n",
       "      <td>Women's dress ROXY NEW LEASEOFLIFE J KTDR</td>\n",
       "      <td>NaN</td>\n",
       "      <td>40.00</td>\n",
       "    </tr>\n",
       "    <tr>\n",
       "      <th>...</th>\n",
       "      <td>...</td>\n",
       "      <td>...</td>\n",
       "      <td>...</td>\n",
       "      <td>...</td>\n",
       "      <td>...</td>\n",
       "      <td>...</td>\n",
       "      <td>...</td>\n",
       "    </tr>\n",
       "    <tr>\n",
       "      <th>188707</th>\n",
       "      <td>4546a0d6-8713-41d8-8916-005561232327</td>\n",
       "      <td>2019-08-31 23:57:50.043362 UTC</td>\n",
       "      <td>purchase_item</td>\n",
       "      <td>4331a44c-9547-432e-bb82-8b94bc155372</td>\n",
       "      <td>Golddigga Badge Swimsuit Ladies</td>\n",
       "      <td>Women&gt;Women's Clothing&gt;Swimmsuits &amp; bikins&gt;One...</td>\n",
       "      <td>29.97</td>\n",
       "    </tr>\n",
       "    <tr>\n",
       "      <th>188708</th>\n",
       "      <td>4546a0d6-8713-41d8-8916-005561232327</td>\n",
       "      <td>2019-08-31 23:58:56.566363 UTC</td>\n",
       "      <td>purchase_item</td>\n",
       "      <td>0e857bb8-7026-467e-8900-3f66a021385c</td>\n",
       "      <td>Firetrap Blackseal Cross Back Swim Suit</td>\n",
       "      <td>Women&gt;Women's Clothing&gt;Swimmsuits &amp; bikins&gt;One...</td>\n",
       "      <td>14.39</td>\n",
       "    </tr>\n",
       "    <tr>\n",
       "      <th>188709</th>\n",
       "      <td>4546a0d6-8713-41d8-8916-005561232327</td>\n",
       "      <td>2019-08-31 23:58:56.568363 UTC</td>\n",
       "      <td>purchase_item</td>\n",
       "      <td>4331a44c-9547-432e-bb82-8b94bc155372</td>\n",
       "      <td>Golddigga Badge Swimsuit Ladies</td>\n",
       "      <td>Women&gt;Women's Clothing&gt;Swimmsuits &amp; bikins&gt;One...</td>\n",
       "      <td>29.97</td>\n",
       "    </tr>\n",
       "    <tr>\n",
       "      <th>188710</th>\n",
       "      <td>4546a0d6-8713-41d8-8916-005561232327</td>\n",
       "      <td>2019-08-31 23:59:05.509363 UTC</td>\n",
       "      <td>purchase_item</td>\n",
       "      <td>0e857bb8-7026-467e-8900-3f66a021385c</td>\n",
       "      <td>Firetrap Blackseal Cross Back Swim Suit</td>\n",
       "      <td>Women&gt;Women's Clothing&gt;Swimmsuits &amp; bikins&gt;One...</td>\n",
       "      <td>14.39</td>\n",
       "    </tr>\n",
       "    <tr>\n",
       "      <th>188711</th>\n",
       "      <td>4546a0d6-8713-41d8-8916-005561232327</td>\n",
       "      <td>2019-08-31 23:59:05.511362 UTC</td>\n",
       "      <td>purchase_item</td>\n",
       "      <td>4331a44c-9547-432e-bb82-8b94bc155372</td>\n",
       "      <td>Golddigga Badge Swimsuit Ladies</td>\n",
       "      <td>Women&gt;Women's Clothing&gt;Swimmsuits &amp; bikins&gt;One...</td>\n",
       "      <td>29.97</td>\n",
       "    </tr>\n",
       "  </tbody>\n",
       "</table>\n",
       "<p>14803097 rows × 7 columns</p>\n",
       "</div>"
      ],
      "text/plain": [
       "                                 customer_id                       timestamp  \\\n",
       "0       204685f9-00f0-4a36-bab1-e0b74673c3b1  2019-07-01 00:00:01.101977 UTC   \n",
       "1       552445a5-f41d-4b25-b479-4e776d9bee61  2019-07-01 00:00:01.901589 UTC   \n",
       "2       fac01f48-a03a-41f2-acd5-b5f4e407d9c2  2019-07-01 00:00:08.954928 UTC   \n",
       "3       552445a5-f41d-4b25-b479-4e776d9bee61  2019-07-01 00:00:09.721589 UTC   \n",
       "4       bc59a341-040f-41ea-8f33-cc4a02c2d85d  2019-07-01 00:00:13.745257 UTC   \n",
       "...                                      ...                             ...   \n",
       "188707  4546a0d6-8713-41d8-8916-005561232327  2019-08-31 23:57:50.043362 UTC   \n",
       "188708  4546a0d6-8713-41d8-8916-005561232327  2019-08-31 23:58:56.566363 UTC   \n",
       "188709  4546a0d6-8713-41d8-8916-005561232327  2019-08-31 23:58:56.568363 UTC   \n",
       "188710  4546a0d6-8713-41d8-8916-005561232327  2019-08-31 23:59:05.509363 UTC   \n",
       "188711  4546a0d6-8713-41d8-8916-005561232327  2019-08-31 23:59:05.511362 UTC   \n",
       "\n",
       "           event_type                            product_id  \\\n",
       "0           view_item  f130c542-d793-41d0-88f6-d1c52b4fe8f0   \n",
       "1           view_item  29db8f57-49bd-4108-a0bb-0d245278e999   \n",
       "2           view_item  a90bddc4-8eb7-4c99-aa4f-2f2377c246a2   \n",
       "3           view_item  600268e1-a2ba-4b1b-ab57-58c577412af0   \n",
       "4           view_item  b74e0b38-1efe-4d86-9718-952cc2580212   \n",
       "...               ...                                   ...   \n",
       "188707  purchase_item  4331a44c-9547-432e-bb82-8b94bc155372   \n",
       "188708  purchase_item  0e857bb8-7026-467e-8900-3f66a021385c   \n",
       "188709  purchase_item  4331a44c-9547-432e-bb82-8b94bc155372   \n",
       "188710  purchase_item  0e857bb8-7026-467e-8900-3f66a021385c   \n",
       "188711  purchase_item  4331a44c-9547-432e-bb82-8b94bc155372   \n",
       "\n",
       "                                                    title  \\\n",
       "0                 Michael Kors Nappa Leather Racer Jacket   \n",
       "1                                 Puma Woven Shorts Girls   \n",
       "2       Trendyol Multi-colored Flywheel Detailed Swimwear   \n",
       "3                                 Puma Woven Shorts Girls   \n",
       "4               Women's dress ROXY NEW LEASEOFLIFE J KTDR   \n",
       "...                                                   ...   \n",
       "188707                   Golddigga Badge Swimsuit Ladies    \n",
       "188708           Firetrap Blackseal Cross Back Swim Suit    \n",
       "188709                   Golddigga Badge Swimsuit Ladies    \n",
       "188710           Firetrap Blackseal Cross Back Swim Suit    \n",
       "188711                   Golddigga Badge Swimsuit Ladies    \n",
       "\n",
       "                                            category_name   price  \n",
       "0                                                     NaN  747.49  \n",
       "1                                                     NaN   11.92  \n",
       "2                                                     NaN   23.85  \n",
       "3                                                     NaN   11.92  \n",
       "4                                                     NaN   40.00  \n",
       "...                                                   ...     ...  \n",
       "188707  Women>Women's Clothing>Swimmsuits & bikins>One...   29.97  \n",
       "188708  Women>Women's Clothing>Swimmsuits & bikins>One...   14.39  \n",
       "188709  Women>Women's Clothing>Swimmsuits & bikins>One...   29.97  \n",
       "188710  Women>Women's Clothing>Swimmsuits & bikins>One...   14.39  \n",
       "188711  Women>Women's Clothing>Swimmsuits & bikins>One...   29.97  \n",
       "\n",
       "[14803097 rows x 7 columns]"
      ]
     },
     "execution_count": 9,
     "metadata": {},
     "output_type": "execute_result"
    }
   ],
   "source": [
    "df"
   ]
  },
  {
   "cell_type": "code",
   "execution_count": 10,
   "metadata": {},
   "outputs": [],
   "source": [
    "df.sort_values(by=['timestamp'], inplace=True, ascending=True)"
   ]
  },
  {
   "cell_type": "code",
   "execution_count": 11,
   "metadata": {},
   "outputs": [],
   "source": [
    "df.drop(['price'], axis=1, inplace=True)"
   ]
  },
  {
   "cell_type": "code",
   "execution_count": 12,
   "metadata": {},
   "outputs": [],
   "source": [
    "df['event_type'] = df['event_type'].replace({ 'view_item': 1, 'purchase_item': 2 })"
   ]
  },
  {
   "cell_type": "markdown",
   "metadata": {},
   "source": [
    "## Zakódovanie idčiek"
   ]
  },
  {
   "cell_type": "code",
   "execution_count": 13,
   "metadata": {},
   "outputs": [],
   "source": [
    "from sklearn import preprocessing"
   ]
  },
  {
   "cell_type": "code",
   "execution_count": 14,
   "metadata": {},
   "outputs": [],
   "source": [
    "le_customer = preprocessing.LabelEncoder()\n",
    "le_product = preprocessing.LabelEncoder()\n",
    "\n",
    "df['customer_id'] = le_customer.fit_transform(df['customer_id'])\n",
    "df['product_id'] = le_product.fit_transform(df['product_id'])"
   ]
  },
  {
   "cell_type": "markdown",
   "metadata": {},
   "source": [
    "## Rozdelenie na trénovaciu a testovaciu zložku"
   ]
  },
  {
   "cell_type": "code",
   "execution_count": 15,
   "metadata": {},
   "outputs": [],
   "source": [
    "from sklearn.model_selection import train_test_split"
   ]
  },
  {
   "cell_type": "code",
   "execution_count": 16,
   "metadata": {},
   "outputs": [],
   "source": [
    "df_train, df_test = train_test_split(df, test_size=0.20, shuffle=False)"
   ]
  },
  {
   "cell_type": "code",
   "execution_count": 17,
   "metadata": {},
   "outputs": [
    {
     "name": "stdout",
     "output_type": "stream",
     "text": [
      "<class 'pandas.core.frame.DataFrame'>\n",
      "Int64Index: 11842477 entries, 0 to 11689792\n",
      "Data columns (total 6 columns):\n",
      "customer_id      int64\n",
      "timestamp        object\n",
      "event_type       int64\n",
      "product_id       int64\n",
      "title            object\n",
      "category_name    object\n",
      "dtypes: int64(3), object(3)\n",
      "memory usage: 632.5+ MB\n"
     ]
    }
   ],
   "source": [
    "df_train.info()"
   ]
  },
  {
   "cell_type": "code",
   "execution_count": 18,
   "metadata": {
    "scrolled": true
   },
   "outputs": [
    {
     "name": "stdout",
     "output_type": "stream",
     "text": [
      "<class 'pandas.core.frame.DataFrame'>\n",
      "Int64Index: 2960620 entries, 11689793 to 14614384\n",
      "Data columns (total 6 columns):\n",
      "customer_id      int64\n",
      "timestamp        object\n",
      "event_type       int64\n",
      "product_id       int64\n",
      "title            object\n",
      "category_name    object\n",
      "dtypes: int64(3), object(3)\n",
      "memory usage: 158.1+ MB\n"
     ]
    }
   ],
   "source": [
    "df_test.info()"
   ]
  },
  {
   "cell_type": "code",
   "execution_count": 19,
   "metadata": {},
   "outputs": [
    {
     "data": {
      "text/plain": [
       "0            279709\n",
       "1            735927\n",
       "2           2166327\n",
       "3            735927\n",
       "4           1628326\n",
       "             ...   \n",
       "11689788    1026488\n",
       "11689789    2096704\n",
       "11689790     340302\n",
       "11689791     132705\n",
       "11689792     161403\n",
       "Name: customer_id, Length: 11842477, dtype: int64"
      ]
     },
     "execution_count": 19,
     "metadata": {},
     "output_type": "execute_result"
    }
   ],
   "source": [
    "df_train['customer_id']"
   ]
  },
  {
   "cell_type": "markdown",
   "metadata": {},
   "source": [
    "### Prehľad trénovacích a testovacích dát"
   ]
  },
  {
   "cell_type": "code",
   "execution_count": 20,
   "metadata": {
    "scrolled": true
   },
   "outputs": [
    {
     "data": {
      "text/html": [
       "<div>\n",
       "<style scoped>\n",
       "    .dataframe tbody tr th:only-of-type {\n",
       "        vertical-align: middle;\n",
       "    }\n",
       "\n",
       "    .dataframe tbody tr th {\n",
       "        vertical-align: top;\n",
       "    }\n",
       "\n",
       "    .dataframe thead th {\n",
       "        text-align: right;\n",
       "    }\n",
       "</style>\n",
       "<table border=\"1\" class=\"dataframe\">\n",
       "  <thead>\n",
       "    <tr style=\"text-align: right;\">\n",
       "      <th></th>\n",
       "      <th>customer_id</th>\n",
       "      <th>timestamp</th>\n",
       "      <th>event_type</th>\n",
       "      <th>product_id</th>\n",
       "      <th>title</th>\n",
       "      <th>category_name</th>\n",
       "    </tr>\n",
       "  </thead>\n",
       "  <tbody>\n",
       "    <tr>\n",
       "      <th>11689793</th>\n",
       "      <td>1218557</td>\n",
       "      <td>2019-08-21 07:57:53.361388 UTC</td>\n",
       "      <td>1</td>\n",
       "      <td>26125</td>\n",
       "      <td>Trendyol Multi-colored Plisse Skirt</td>\n",
       "      <td>Women&gt;Women's Clothing&gt;Skirts&gt;Midi skirts</td>\n",
       "    </tr>\n",
       "    <tr>\n",
       "      <th>11689794</th>\n",
       "      <td>545607</td>\n",
       "      <td>2019-08-21 07:57:53.372592 UTC</td>\n",
       "      <td>1</td>\n",
       "      <td>54241</td>\n",
       "      <td>Trendyol He's The Only Color We Block, Swimsuit</td>\n",
       "      <td>Women&gt;Women's Clothing&gt;Swimmsuits &amp; bikins&gt;One...</td>\n",
       "    </tr>\n",
       "    <tr>\n",
       "      <th>11689795</th>\n",
       "      <td>881435</td>\n",
       "      <td>2019-08-21 07:57:53.532665 UTC</td>\n",
       "      <td>1</td>\n",
       "      <td>54376</td>\n",
       "      <td>Women's jacket NORTHFINDER EMMALINE</td>\n",
       "      <td>Women&gt;Women's Clothing&gt;Jackets &amp; Coats&gt;Quilted...</td>\n",
       "    </tr>\n",
       "    <tr>\n",
       "      <th>11689796</th>\n",
       "      <td>262051</td>\n",
       "      <td>2019-08-21 07:57:53.700887 UTC</td>\n",
       "      <td>1</td>\n",
       "      <td>27195</td>\n",
       "      <td>Men's t-shirt KILPI AREC-M</td>\n",
       "      <td>Men&gt;Men Clothing&gt;T-Shirts &amp; Polo shirts&gt;Short ...</td>\n",
       "    </tr>\n",
       "    <tr>\n",
       "      <th>11689797</th>\n",
       "      <td>2064097</td>\n",
       "      <td>2019-08-21 07:57:53.86051 UTC</td>\n",
       "      <td>1</td>\n",
       "      <td>104807</td>\n",
       "      <td>Made Of Emotion Woman's Dress M417 Navy Blue</td>\n",
       "      <td>Women&gt;Women's Clothing&gt;Dresses&gt;Mini dress</td>\n",
       "    </tr>\n",
       "  </tbody>\n",
       "</table>\n",
       "</div>"
      ],
      "text/plain": [
       "          customer_id                       timestamp  event_type  product_id  \\\n",
       "11689793      1218557  2019-08-21 07:57:53.361388 UTC           1       26125   \n",
       "11689794       545607  2019-08-21 07:57:53.372592 UTC           1       54241   \n",
       "11689795       881435  2019-08-21 07:57:53.532665 UTC           1       54376   \n",
       "11689796       262051  2019-08-21 07:57:53.700887 UTC           1       27195   \n",
       "11689797      2064097   2019-08-21 07:57:53.86051 UTC           1      104807   \n",
       "\n",
       "                                                    title  \\\n",
       "11689793              Trendyol Multi-colored Plisse Skirt   \n",
       "11689794  Trendyol He's The Only Color We Block, Swimsuit   \n",
       "11689795              Women's jacket NORTHFINDER EMMALINE   \n",
       "11689796                       Men's t-shirt KILPI AREC-M   \n",
       "11689797     Made Of Emotion Woman's Dress M417 Navy Blue   \n",
       "\n",
       "                                              category_name  \n",
       "11689793          Women>Women's Clothing>Skirts>Midi skirts  \n",
       "11689794  Women>Women's Clothing>Swimmsuits & bikins>One...  \n",
       "11689795  Women>Women's Clothing>Jackets & Coats>Quilted...  \n",
       "11689796  Men>Men Clothing>T-Shirts & Polo shirts>Short ...  \n",
       "11689797          Women>Women's Clothing>Dresses>Mini dress  "
      ]
     },
     "execution_count": 20,
     "metadata": {},
     "output_type": "execute_result"
    }
   ],
   "source": [
    "df_test.head()"
   ]
  },
  {
   "cell_type": "code",
   "execution_count": 21,
   "metadata": {
    "scrolled": true
   },
   "outputs": [
    {
     "data": {
      "text/html": [
       "<div>\n",
       "<style scoped>\n",
       "    .dataframe tbody tr th:only-of-type {\n",
       "        vertical-align: middle;\n",
       "    }\n",
       "\n",
       "    .dataframe tbody tr th {\n",
       "        vertical-align: top;\n",
       "    }\n",
       "\n",
       "    .dataframe thead th {\n",
       "        text-align: right;\n",
       "    }\n",
       "</style>\n",
       "<table border=\"1\" class=\"dataframe\">\n",
       "  <thead>\n",
       "    <tr style=\"text-align: right;\">\n",
       "      <th></th>\n",
       "      <th>customer_id</th>\n",
       "      <th>timestamp</th>\n",
       "      <th>event_type</th>\n",
       "      <th>product_id</th>\n",
       "      <th>title</th>\n",
       "      <th>category_name</th>\n",
       "    </tr>\n",
       "  </thead>\n",
       "  <tbody>\n",
       "    <tr>\n",
       "      <th>0</th>\n",
       "      <td>279709</td>\n",
       "      <td>2019-07-01 00:00:01.101977 UTC</td>\n",
       "      <td>1</td>\n",
       "      <td>116557</td>\n",
       "      <td>Michael Kors Nappa Leather Racer Jacket</td>\n",
       "      <td>NaN</td>\n",
       "    </tr>\n",
       "    <tr>\n",
       "      <th>1</th>\n",
       "      <td>735927</td>\n",
       "      <td>2019-07-01 00:00:01.901589 UTC</td>\n",
       "      <td>1</td>\n",
       "      <td>20221</td>\n",
       "      <td>Puma Woven Shorts Girls</td>\n",
       "      <td>NaN</td>\n",
       "    </tr>\n",
       "    <tr>\n",
       "      <th>2</th>\n",
       "      <td>2166327</td>\n",
       "      <td>2019-07-01 00:00:08.954928 UTC</td>\n",
       "      <td>1</td>\n",
       "      <td>81561</td>\n",
       "      <td>Trendyol Multi-colored Flywheel Detailed Swimwear</td>\n",
       "      <td>NaN</td>\n",
       "    </tr>\n",
       "    <tr>\n",
       "      <th>3</th>\n",
       "      <td>735927</td>\n",
       "      <td>2019-07-01 00:00:09.721589 UTC</td>\n",
       "      <td>1</td>\n",
       "      <td>46573</td>\n",
       "      <td>Puma Woven Shorts Girls</td>\n",
       "      <td>NaN</td>\n",
       "    </tr>\n",
       "    <tr>\n",
       "      <th>4</th>\n",
       "      <td>1628326</td>\n",
       "      <td>2019-07-01 00:00:13.745257 UTC</td>\n",
       "      <td>1</td>\n",
       "      <td>88433</td>\n",
       "      <td>Women's dress ROXY NEW LEASEOFLIFE J KTDR</td>\n",
       "      <td>NaN</td>\n",
       "    </tr>\n",
       "  </tbody>\n",
       "</table>\n",
       "</div>"
      ],
      "text/plain": [
       "   customer_id                       timestamp  event_type  product_id  \\\n",
       "0       279709  2019-07-01 00:00:01.101977 UTC           1      116557   \n",
       "1       735927  2019-07-01 00:00:01.901589 UTC           1       20221   \n",
       "2      2166327  2019-07-01 00:00:08.954928 UTC           1       81561   \n",
       "3       735927  2019-07-01 00:00:09.721589 UTC           1       46573   \n",
       "4      1628326  2019-07-01 00:00:13.745257 UTC           1       88433   \n",
       "\n",
       "                                               title category_name  \n",
       "0            Michael Kors Nappa Leather Racer Jacket           NaN  \n",
       "1                            Puma Woven Shorts Girls           NaN  \n",
       "2  Trendyol Multi-colored Flywheel Detailed Swimwear           NaN  \n",
       "3                            Puma Woven Shorts Girls           NaN  \n",
       "4          Women's dress ROXY NEW LEASEOFLIFE J KTDR           NaN  "
      ]
     },
     "execution_count": 21,
     "metadata": {},
     "output_type": "execute_result"
    }
   ],
   "source": [
    "df_train.head()"
   ]
  },
  {
   "cell_type": "markdown",
   "metadata": {},
   "source": [
    "# Tvorba sparse matrix"
   ]
  },
  {
   "cell_type": "markdown",
   "metadata": {},
   "source": [
    "robím podla tohoto\n",
    "https://towardsdatascience.com/prototyping-a-recommender-system-step-by-step-part-1-knn-item-based-collaborative-filtering-637969614ea"
   ]
  },
  {
   "cell_type": "markdown",
   "metadata": {},
   "source": [
    "Ktorú sparse_matrix použiť:\n",
    "https://cmdlinetips.com/2018/03/sparse-matrices-in-python-with-scipy/"
   ]
  },
  {
   "cell_type": "code",
   "execution_count": 22,
   "metadata": {},
   "outputs": [],
   "source": [
    "from scipy.sparse import coo_matrix"
   ]
  },
  {
   "cell_type": "code",
   "execution_count": 23,
   "metadata": {},
   "outputs": [],
   "source": [
    "# tvorba sparse matrix\n",
    "mat_coo = coo_matrix(\n",
    "    (\n",
    "        np.array(df_train['event_type']), \n",
    "        (\n",
    "            np.array(df_train['product_id']), \n",
    "            np.array(df_train['customer_id'])\n",
    "        )\n",
    "    )\n",
    ")"
   ]
  },
  {
   "cell_type": "code",
   "execution_count": 24,
   "metadata": {},
   "outputs": [],
   "source": [
    "mat_csr = mat_coo.tocsr(copy=False)"
   ]
  },
  {
   "cell_type": "code",
   "execution_count": 25,
   "metadata": {},
   "outputs": [
    {
     "data": {
      "text/plain": [
       "(123837, 2211386)"
      ]
     },
     "execution_count": 25,
     "metadata": {},
     "output_type": "execute_result"
    }
   ],
   "source": [
    "mat_csr.shape"
   ]
  },
  {
   "cell_type": "markdown",
   "metadata": {},
   "source": [
    "# Odporúčanie"
   ]
  },
  {
   "cell_type": "code",
   "execution_count": 26,
   "metadata": {},
   "outputs": [],
   "source": [
    "import operator\n",
    "from sklearn.neighbors import NearestNeighbors"
   ]
  },
  {
   "cell_type": "code",
   "execution_count": 27,
   "metadata": {},
   "outputs": [
    {
     "data": {
      "text/plain": [
       "NearestNeighbors(algorithm='brute', leaf_size=30, metric='cosine',\n",
       "                 metric_params=None, n_jobs=-1, n_neighbors=20, p=2,\n",
       "                 radius=1.0)"
      ]
     },
     "execution_count": 27,
     "metadata": {},
     "output_type": "execute_result"
    }
   ],
   "source": [
    "# vytvorenie inštancie KNN\n",
    "model_knn_cosine = NearestNeighbors(metric='cosine', algorithm='brute', n_neighbors=20, n_jobs=-1)\n",
    "\n",
    "# natrénovanie na trénovacích dátach\n",
    "model_knn_cosine.fit(mat_csr)"
   ]
  },
  {
   "cell_type": "code",
   "execution_count": 38,
   "metadata": {},
   "outputs": [],
   "source": [
    "def recommend_to_customer(model_knn_cosine, customer_id, n_recos):\n",
    "    distances, indices = recommend(model_knn_cosine, customer_id, n_recos)\n",
    "    \n",
    "    if len(distances) == 0 and len(indices) == 0:\n",
    "        return\n",
    "    \n",
    "    customer_id_inversed = le_customer.inverse_transform([customer_id])\n",
    "     \n",
    "    interacted_items = df_test[df_test['customer_id'] == customer_id]['product_id'].values  \n",
    "    precision = calc_precision(\n",
    "        indices,\n",
    "        list(dict.fromkeys(interacted_items)) # odstŕaniť duplikáty z pola produktov pozretých v testovacej sade\n",
    "    )  \n",
    "    \n",
    "    if precision > 0:\n",
    "        #print(f'Recommended items for customer \"{customer_id_inversed[0]}\" :')\n",
    "        #for distance, index in zip(distances, indices):\n",
    "        #    print(f'- item: {index} with distance {distance}.')\n",
    "\n",
    "        #print('\\n')\n",
    "        print(f'Recommendation precision is - {precision} %.')\n",
    "        \n",
    "\n",
    "# funkcia, ktorá vráti odporúčania pre daného customera\n",
    "def recommend(model_knn_cosine, customer_id, n_recos): \n",
    "    \n",
    "    # 1. nájdi všetký produkty, ktoré si zákazník pozrel\n",
    "    speciffic_customer = df_train['customer_id'] == customer_id\n",
    "    interacted_items = df_train['event_type'] > 0\n",
    "    interacted_products = df_train[speciffic_customer & interacted_items]['product_id'].values\n",
    "    print(interacted_products)\n",
    "    \n",
    "    \n",
    "    # 2. ak nema ziadne produkty v train, tak daj generické odporúčania a skonči\n",
    "    pass\n",
    "    if len(interacted_products) == 0:\n",
    "        return [], []\n",
    "    \n",
    "    \n",
    "    # 3. vygeneruj odporúčania pre každý produkt\n",
    "    index_distance_map = {}\n",
    "    for product_id in interacted_products:\n",
    "        # n_recos+1, pretože vždy vráti aj seba \n",
    "        distances_tmp, indices_tmp = model_knn_cosine.kneighbors(mat_csr[product_id], n_neighbors=n_recos+1)\n",
    "        \n",
    "        for distance, index in zip(distances_tmp[0][1:], indices_tmp[0][1:]): \n",
    "            if index in index_distance_map and index_distance_map[index] < distance:\n",
    "                continue\n",
    "            index_distance_map[index] = distance\n",
    "            \n",
    "\n",
    "    # 4. nájdi najlepších n (n_recos) výsledkov\n",
    "    indices = []\n",
    "    distances = []\n",
    "    for _ in range(n_recos):\n",
    "        index = min(index_distance_map.items(), key=operator.itemgetter(1))[0]\n",
    "        indices.append(index)\n",
    "        distances.append(index_distance_map[index])\n",
    "        del index_distance_map[index]\n",
    "        \n",
    "    \n",
    "    # 6. namapuj vrátené najlepšie produkty na ich product_id\n",
    "    # product_ids = le_product.inverse_transform(indices)\n",
    "    \n",
    "    \n",
    "    return distances, indices"
   ]
  },
  {
   "cell_type": "code",
   "execution_count": 39,
   "metadata": {},
   "outputs": [],
   "source": [
    "def calc_precision(predicted_item_ids, future_touched_item_ids):\n",
    "    tp = intersection(predicted_item_ids, future_touched_item_ids);\n",
    "    return (len(tp) / len(predicted_item_ids)) * 100\n",
    "\n",
    "\n",
    "def intersection(lst1, lst2): \n",
    "    lst3 = [value for value in lst1 if value in lst2] \n",
    "    return lst3  "
   ]
  },
  {
   "cell_type": "code",
   "execution_count": null,
   "metadata": {},
   "outputs": [
    {
     "name": "stdout",
     "output_type": "stream",
     "text": [
      "[116815  85357 109767  71528  18099  45134  91420  82260  85770  67414\n",
      "  46136   9122   8562  96378 103733  18919   7483  85357  57860  85357\n",
      "  58469  59476  87128  35797  87128  91420   7483  82260  73074  49786\n",
      " 103733  18919  44046  18919  85770  87128  43869 101610  95276 105463\n",
      "  65363 119655 119655 115718  14554  69190  87138  59476  42398 112840\n",
      " 105438 113665  57446]\n",
      "[111150 106210]\n",
      "[103023  15770   1466  25857  66364  16653  54097  16653  19577  63815\n",
      "  92770  63815  95456  36473 102063 110557  72006  57992  73697  21832]\n",
      "[ 19189  18235  19189 118264  62752 118264  81520  81520  63415  63388\n",
      "  81520  15814  32310  66368  85056  70299  85056  44684]\n",
      "Recommendation precision is - 20.0 %.\n",
      "[  5325 109767 103743  66236]\n",
      "[ 83089  83089  13499  83089  13499  83089  83089 113838  83089 114025\n",
      "  83089 113838  13499 106210  30200 106210  28755  89810  37846  62944]\n",
      "[119901  79361  25166]\n",
      "Recommendation precision is - 20.0 %.\n",
      "[75776  7521 52622 22101 77705 12845 70713 22101 68867 68867 18021 62759]\n",
      "[ 50081  90910  31123  30760  49322  30760  11656 109445  19029 109445\n",
      "  19029 109445  19029 108715  76393  76576  76393 108715  63388  73715\n",
      "  73715  79322  14610  17727  58446 112640  88981   6899  89995  61846\n",
      " 118781  37599  90043  22150  89523  22150   4145  22150   4145  22150\n",
      "  50501  68704  50501  38973  42903  46175  38973  46175  42903  38973\n",
      " 119535  22301  83723 100307  22971  70680  83723  61477   2589  83723\n",
      "   2589  83723   2589  83723   2589  61477  83723]\n",
      "[ 18954 107761 113688]\n",
      "[101490   5127  92642 101490  39985 101490  66410   1192   1192  90234\n",
      "  90234   1192  98241 114780  52802  19062 112919  28635  28697  94055\n",
      " 122545  44341  91203  49028 118616 114780  19062 114780 118616  49028\n",
      "  91203  44341 122545  94055  28697  28635 112919  22138  28635  28163\n",
      "  42873  29521  11587  52802  56186  91203  79809  11396  28697   1957\n",
      "  18984  63879  46938  54006  44635  60170  17526  28635  69746  69746\n",
      "  19062  52802  98625  18984  54006  28635  69746  11587  28635  28635\n",
      "  11587  11587  28635  69746  11587  54006  28635  69746  11587]\n",
      "[  4225   4641   4225  44972 102259  28471 102259  96237  63452  17179\n",
      " 104624  18442  67418  80212  63134  80212  78787  67418  67554  18442\n",
      "  93360   5009  28471 102259  90010   4225  92452 118744  94351 118744\n",
      "  79703  77728 114814 114814  51588  93360   1843  80886  59850  51588\n",
      "  50216  36378  28471   1843 110354  93360   3141   5009   1843  85228\n",
      "  94826  90010   6172 108283   8493  39706 106696  80212  44804  80212\n",
      "  85735  89900  85735 106696 108283 109461 104624  15510  67418  44804\n",
      "  21674  63134 104624  60907 104624   6172 104624 104624 104624 104624\n",
      "  20934  78519  79703   5346 122735  13887  93360  37846  59837  80886\n",
      "  80886  17179 102259 109416  76588  13762  60907  18442 109416   5009\n",
      "  80886  59270  48768  51588  59850  46016  16802  45487 119192 117036\n",
      "  42259  79703  77218  76550  26787 106186    171 114051 102259 110354\n",
      "   7041  55780 119821 122362 119821  79703  74114  75735   9660  83986\n",
      "  57139  83986  79703 113451  74114  53355  38915  92198 105243 105243\n",
      "  75735  50096  16222  26388  99220   1564  66381  56000  70031  39168\n",
      "  39263  96909  99220  53164  38915 109177  33741  95359  96909  95484\n",
      "   9824  82285   9623  54585  42102  93503 119738  93299   1945 120549\n",
      "  11508  32398 113918   9111  66534 113918  47858  13668  10769  90938\n",
      "  32398   7715  16413 123122  47163  86393  18482  74783  80677  21160\n",
      "  37215  53718  45737  45737  54047  48875  79656  79656  67733   2320\n",
      "  79656  79656  35265  88756  25343   6162  35265  65356  89051   6162\n",
      "  89091 117572  95359  33741 106168 111838  67733  68941  10253  79656\n",
      "  79656  79656  51588  96909 112202  89810  48875 114995  58694  89900\n",
      "  80212 123735  60907  96237  51699 102259 120732 123735 121079  97191\n",
      "  80212  12743  96237 121079  63452 121079  13499  20934  51699 102259\n",
      "  18442  18442 123735]\n",
      "[ 70573  29537  59747  54590  84972 119394  35486  25861  47120  46443\n",
      "  52504   6021   6153  21406  31702  84698  18471  39260  99537 121273\n",
      "  61209  80350  80350 114140  76584  16296  51451  49071   6021  36193\n",
      "  70237  63143 117304   8427  72888  97463 100284]\n",
      "[ 50081  90910  31123  30760  49322  30760  11656 109445  19029 109445\n",
      "  19029 109445  19029 108715  76393  76576  76393 108715  63388  73715\n",
      "  73715  79322  14610  17727  58446 112640  88981   6899  89995  61846\n",
      " 118781  37599  90043  22150  89523  22150   4145  22150   4145  22150\n",
      "  50501  68704  50501  38973  42903  46175  38973  46175  42903  38973\n",
      " 119535  22301  83723 100307  22971  70680  83723  61477   2589  83723\n",
      "   2589  83723   2589  83723   2589  61477  83723]\n",
      "[109509 109509  16979  69903  80620 110836 110836 110836  69903  23611\n",
      "  45308]\n",
      "[ 28385  28385  28432  31711  46965  46965  52675 111507]\n",
      "[112109 103900  63544   1899  11098  44386  39539  88507  87843  80598\n",
      "  44386  63544  67590 110596  67590  35204  92096   7483  95237   2747\n",
      "  77285   2747  12573  28022  35991  75623  50436  35980  85357  85357\n",
      "  43344  58283 110572 115542   5683 115542 120830  70417  86781 118927\n",
      " 100415 112549 100415 118927  18433  97687  50436  25854  57300  25854\n",
      " 113727  72105  97739  32131  46361  32131  97739  95314  97739  72105\n",
      "  97739 108743  63204  49676 101999  43085 101999  74476  17853  13026\n",
      "  17853  91522  91522 100339 100385  26152 101999  63544  31130 108743\n",
      " 108743 108743  97739  74967  97739  78880  97739 114574  97739  97739\n",
      "  72105 113727  25854 101999  86941  18721  86941  25006  91522  29962\n",
      " 123463  87544  87544   1805  95909   1538 106017  72279 101133  72279\n",
      "   1805  86941  25584 108530 112728  36611  80616  36611  36611  80616\n",
      "  36611  80616  36611 112728   6654  36611 108530 108530  94402  60788\n",
      "  60788  63469  60788   6654  60788   6654  63469  60788   6654  60788\n",
      "  60788  63469   6654  15433 115147  18556  39550 111535  39550  32571\n",
      "   5683  96665]\n",
      "[32310 31026 72794 65820 18887 18887 79637 18887  7706 57860 97500 72125\n",
      " 33238 43883 36206   477 57860]\n",
      "Recommendation precision is - 10.0 %.\n",
      "[ 50081  90910  31123  30760  49322  30760  11656 109445  19029 109445\n",
      "  19029 109445  19029 108715  76393  76576  76393 108715  63388  73715\n",
      "  73715  79322  14610  17727  58446 112640  88981   6899  89995  61846\n",
      " 118781  37599  90043  22150  89523  22150   4145  22150   4145  22150\n",
      "  50501  68704  50501  38973  42903  46175  38973  46175  42903  38973\n",
      " 119535  22301  83723 100307  22971  70680  83723  61477   2589  83723\n",
      "   2589  83723   2589  83723   2589  61477  83723]\n",
      "[ 55171 121241  55171 121241  55171  31644  33134 118746]\n",
      "[26829]\n",
      "[]\n",
      "[ 91624  54480  54480  54480   6021  36197 107992  29310  82899  85019\n",
      "  22912   6906  88834  47120  93532  54480  29537  53174  84698 111816\n",
      " 111816  71601 111816  74565  74565 111816  71601 111816  54480  84698\n",
      " 112707  93532  54480  84698  84698  84698  54480 111816  84698 111816\n",
      "  54480  54480  54590 111816  71601 108380  71601  71601  93532  54480\n",
      "  84698 115631  71601  71601  29433  51451  76584  71601 115631  24514\n",
      "  26273  53678  89428  89428  89428  26273  53678  84698  53678  26273\n",
      "  24514  86191  55352  55042  53678  24514]\n",
      "[]\n",
      "[ 72178 120221  84082 116318  15080   5217  54263  83073  59160  83073\n",
      "  54263  17982  48174  48174  48174  81193 115271 113041  63555  61758\n",
      "  13592  61758  95496  95160]\n",
      "[107063  13460  75441   8128 106556 103834 122100  60416 106583 106556\n",
      " 103834 106556   8128]\n",
      "[ 54844  90851 113075  90851  54844  45761  91305  45761  91305  92506\n",
      "  70500  56584 116175  39351  67117  45761  84355  67449  67117  22967\n",
      "  96943  16114 104649  65988]\n",
      "[ 83089  83089  13499  83089  13499  83089  83089 113838  83089 114025\n",
      "  83089 113838  13499 106210  30200 106210  28755  89810  37846  62944]\n",
      "[64671]\n",
      "Recommendation precision is - 10.0 %.\n",
      "[]\n",
      "[ 50081  90910  31123  30760  49322  30760  11656 109445  19029 109445\n",
      "  19029 109445  19029 108715  76393  76576  76393 108715  63388  73715\n",
      "  73715  79322  14610  17727  58446 112640  88981   6899  89995  61846\n",
      " 118781  37599  90043  22150  89523  22150   4145  22150   4145  22150\n",
      "  50501  68704  50501  38973  42903  46175  38973  46175  42903  38973\n",
      " 119535  22301  83723 100307  22971  70680  83723  61477   2589  83723\n",
      "   2589  83723   2589  83723   2589  61477  83723]\n",
      "[18790 46103 74268]\n",
      "[ 53446  28553  28553  96347   4030  24027 115377  84841  78199  16624\n",
      "  42183]\n"
     ]
    },
    {
     "name": "stdout",
     "output_type": "stream",
     "text": [
      "[]\n",
      "[ 36378  36378  36378  54411  79703  47031  79703 114814  54411  36378\n",
      "  69533  36378  28919  36378 112065  36378  69533  36378  70333  36378\n",
      "  74968  36378  36378  36378  63452  46021  46722  36378  88731 112887\n",
      "  80886 121047  52832  37846 105089  80886  47870  25626 112202 106210\n",
      "  36378  33020  19019     41 115660     41 116194     41  56868     41\n",
      "   1235     41  19019  77728  75569   5384 109416 103010  36378  44188\n",
      "   9007  83398 109416  36378  58193  43638  27981   4225  25331  81668\n",
      "  81668  27981]\n"
     ]
    }
   ],
   "source": [
    "# Náhodný výber customera z testovacej množiny\n",
    "import random\n",
    "random_customer = random.choice(df_test['customer_id'].values)\n",
    "\n",
    "# zaujimavy customer - 2041466 - ec42177e-29ef-4b49-baaa-c20cbe0135d5\n",
    "# 1307766 10%\n",
    "\n",
    "for cst_id in df_test['customer_id'].values:\n",
    "    recommend_to_customer(model_knn_cosine, cst_id, 10)"
   ]
  },
  {
   "cell_type": "markdown",
   "metadata": {},
   "source": [
    "## Maticová faktorizácia"
   ]
  },
  {
   "cell_type": "markdown",
   "metadata": {},
   "source": [
    "https://github.com/SurhanZahid/Recommendation-System-Using-Matrix-Factorization/blob/master/Recommender%20System%20With%20Matrix%20Factorization%20.ipynb"
   ]
  },
  {
   "cell_type": "code",
   "execution_count": null,
   "metadata": {},
   "outputs": [],
   "source": [
    "mat_csr.toarray()"
   ]
  },
  {
   "cell_type": "code",
   "execution_count": null,
   "metadata": {},
   "outputs": [],
   "source": [
    "mat_csr.shape"
   ]
  },
  {
   "cell_type": "code",
   "execution_count": null,
   "metadata": {},
   "outputs": [],
   "source": [
    "import sklearn\n",
    "from sklearn.decomposition import TruncatedSVD\n",
    "\n",
    "SVD = TruncatedSVD(n_components=12, random_state=17)\n",
    "matrix = SVD.fit_transform(mat_csr)\n",
    "matrix.shape"
   ]
  },
  {
   "cell_type": "code",
   "execution_count": null,
   "metadata": {},
   "outputs": [],
   "source": [
    "#corr = np.corrcoef(matrix)\n",
    "corr.shape"
   ]
  },
  {
   "cell_type": "code",
   "execution_count": null,
   "metadata": {},
   "outputs": [],
   "source": []
  }
 ],
 "metadata": {
  "kernelspec": {
   "display_name": "Python 3",
   "language": "python",
   "name": "python3"
  },
  "language_info": {
   "codemirror_mode": {
    "name": "ipython",
    "version": 3
   },
   "file_extension": ".py",
   "mimetype": "text/x-python",
   "name": "python",
   "nbconvert_exporter": "python",
   "pygments_lexer": "ipython3",
   "version": "3.7.0"
  }
 },
 "nbformat": 4,
 "nbformat_minor": 2
}
